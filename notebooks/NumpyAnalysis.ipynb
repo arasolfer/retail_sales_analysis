{
 "cells": [
  {
   "cell_type": "markdown",
   "metadata": {},
   "source": [
    "## **Análisis de datos de retail**\n",
    "\n",
    "En el siguiente notebook se analiza el dataset retail-sales de Kaggle, que contiene datos de ventas por categorias de tiendas en el periodo 2023 a 2024. \n",
    "\n",
    "En este notebook, el objetivo fue utilzar y analizar los datos utilizando solo numpy."
   ]
  },
  {
   "cell_type": "code",
   "execution_count": 1,
   "metadata": {},
   "outputs": [],
   "source": [
    "# importacion de numpy \n",
    "import numpy as np"
   ]
  },
  {
   "cell_type": "code",
   "execution_count": 2,
   "metadata": {},
   "outputs": [
    {
     "name": "stdout",
     "output_type": "stream",
     "text": [
      "[['1' '2023-11-24' 'CUST001' ... '3' '50' '150']\n",
      " ['2' '2023-02-27' 'CUST002' ... '2' '500' '1000']\n",
      " ['3' '2023-01-13' 'CUST003' ... '1' '30' '30']\n",
      " ...\n",
      " ['998' '2023-10-29' 'CUST998' ... '4' '25' '100']\n",
      " ['999' '2023-12-05' 'CUST999' ... '3' '50' '150']\n",
      " ['1000' '2023-04-12' 'CUST1000' ... '4' '30' '120']]\n"
     ]
    }
   ],
   "source": [
    "# se cargan los datos del dataset usando numpy\n",
    "def cargar_datos(path):\n",
    "    # se convierte a string para no perder los datos tipo texto\n",
    "    data = np.genfromtxt(path, delimiter=',', skip_header=1, dtype='str')\n",
    "    return (data)\n",
    "\n",
    "if __name__ == \"__main__\":\n",
    "    path = '../data/retail_sales.csv'\n",
    "    data = cargar_datos(path)\n",
    "    print(data)"
   ]
  },
  {
   "cell_type": "code",
   "execution_count": 3,
   "metadata": {},
   "outputs": [
    {
     "name": "stdout",
     "output_type": "stream",
     "text": [
      "La forma del dataset:  (1000, 9)\n",
      "El tamaño del dataset es:  9000\n",
      "Las dimensiones del dataset son:  2\n"
     ]
    }
   ],
   "source": [
    "# conociendo las dimensiones del dataset\n",
    "# shape del dataset\n",
    "print(\"La forma del dataset: \", data.shape)\n",
    "\n",
    "# size del dataset\n",
    "print(\"El tamaño del dataset es: \", data.size)\n",
    "\n",
    "# las dimensiones del dataset\n",
    "print(\"Las dimensiones del dataset son: \", data.ndim)"
   ]
  },
  {
   "cell_type": "markdown",
   "metadata": {},
   "source": [
    "### **Pre-procesamiento básico de datos**\n",
    "\n",
    "En la siguiente sección se realiza un pre-procesamiento básico de los datos"
   ]
  },
  {
   "cell_type": "code",
   "execution_count": 4,
   "metadata": {},
   "outputs": [
    {
     "name": "stdout",
     "output_type": "stream",
     "text": [
      "[['Male' '34' 'Beauty' '3' '50' '150']\n",
      " ['Female' '26' 'Clothing' '2' '500' '1000']\n",
      " ['Male' '50' 'Electronics' '1' '30' '30']\n",
      " ...\n",
      " ['Female' '23' 'Beauty' '4' '25' '100']\n",
      " ['Female' '36' 'Electronics' '3' '50' '150']\n",
      " ['Male' '47' 'Electronics' '4' '30' '120']]\n"
     ]
    }
   ],
   "source": [
    "# se realiza un slicing y se extraen los datos a ser analizados en otro array\n",
    "data_filtered = data[:,3:]\n",
    "print(data_filtered)"
   ]
  },
  {
   "cell_type": "code",
   "execution_count": 5,
   "metadata": {},
   "outputs": [
    {
     "name": "stdout",
     "output_type": "stream",
     "text": [
      "['genre', 'age', 'category', 'quantity', 'price', 'sales']\n",
      "[['Male' '34' 'Beauty' '3' '50' '150']\n",
      " ['Female' '26' 'Clothing' '2' '500' '1000']\n",
      " ['Male' '50' 'Electronics' '1' '30' '30']\n",
      " ...\n",
      " ['Female' '23' 'Beauty' '4' '25' '100']\n",
      " ['Female' '36' 'Electronics' '3' '50' '150']\n",
      " ['Male' '47' 'Electronics' '4' '30' '120']]\n"
     ]
    }
   ],
   "source": [
    "# se guarda en una lista el nombre de las columnas \n",
    "titles = ['genre','age','category','quantity','price','sales']\n",
    "print(titles)\n",
    "print(data_filtered)"
   ]
  },
  {
   "cell_type": "markdown",
   "metadata": {},
   "source": [
    "### **Exploración de datos**"
   ]
  },
  {
   "cell_type": "markdown",
   "metadata": {},
   "source": [
    "### **Ejercicio 1:** Calcular el total de ventas por categoría.\n",
    "\n",
    "**Método 1:** Utilizando bucles"
   ]
  },
  {
   "cell_type": "code",
   "execution_count": 6,
   "metadata": {},
   "outputs": [
    {
     "name": "stdout",
     "output_type": "stream",
     "text": [
      "<class 'numpy.ndarray'>\n",
      "['Beauty' 'Clothing' 'Electronics' 'Clothing' 'Beauty' 'Beauty' 'Clothing'\n",
      " 'Electronics' 'Electronics' 'Clothing' 'Clothing' 'Beauty' 'Electronics'\n",
      " 'Clothing' 'Electronics' 'Clothing' 'Clothing' 'Electronics' 'Clothing'\n",
      " 'Clothing' 'Beauty' 'Clothing' 'Clothing' 'Clothing' 'Beauty'\n",
      " 'Electronics' 'Beauty' 'Beauty' 'Electronics' 'Beauty' 'Electronics'\n",
      " 'Beauty' 'Electronics' 'Clothing' 'Beauty' 'Beauty' 'Beauty' 'Beauty'\n",
      " 'Clothing' 'Beauty' 'Clothing' 'Clothing' 'Clothing' 'Clothing'\n",
      " 'Electronics' 'Electronics' 'Beauty' 'Electronics' 'Electronics' 'Beauty'\n",
      " 'Beauty' 'Beauty' 'Electronics' 'Electronics' 'Beauty' 'Clothing'\n",
      " 'Beauty' 'Clothing' 'Clothing' 'Beauty' 'Beauty' 'Beauty' 'Electronics'\n",
      " 'Clothing' 'Electronics' 'Electronics' 'Beauty' 'Electronics' 'Beauty'\n",
      " 'Clothing' 'Beauty' 'Electronics' 'Electronics' 'Beauty' 'Beauty'\n",
      " 'Electronics' 'Clothing' 'Clothing' 'Beauty' 'Clothing' 'Electronics'\n",
      " 'Beauty' 'Electronics' 'Electronics' 'Clothing' 'Beauty' 'Beauty'\n",
      " 'Clothing' 'Electronics' 'Electronics' 'Electronics' 'Electronics'\n",
      " 'Beauty' 'Beauty' 'Clothing' 'Clothing' 'Beauty' 'Beauty' 'Electronics'\n",
      " 'Electronics' 'Clothing' 'Beauty' 'Clothing' 'Beauty' 'Electronics'\n",
      " 'Clothing' 'Clothing' 'Beauty' 'Electronics' 'Clothing' 'Electronics'\n",
      " 'Clothing' 'Electronics' 'Beauty' 'Clothing' 'Clothing' 'Electronics'\n",
      " 'Electronics' 'Clothing' 'Beauty' 'Electronics' 'Electronics'\n",
      " 'Electronics' 'Clothing' 'Clothing' 'Clothing' 'Clothing' 'Beauty'\n",
      " 'Beauty' 'Clothing' 'Beauty' 'Electronics' 'Electronics' 'Electronics'\n",
      " 'Clothing' 'Electronics' 'Beauty' 'Clothing' 'Beauty' 'Electronics'\n",
      " 'Electronics' 'Electronics' 'Clothing' 'Beauty' 'Clothing' 'Clothing'\n",
      " 'Electronics' 'Clothing' 'Clothing' 'Electronics' 'Clothing'\n",
      " 'Electronics' 'Electronics' 'Electronics' 'Electronics' 'Clothing'\n",
      " 'Electronics' 'Electronics' 'Clothing' 'Clothing' 'Beauty' 'Clothing'\n",
      " 'Clothing' 'Beauty' 'Clothing' 'Clothing' 'Clothing' 'Clothing' 'Beauty'\n",
      " 'Clothing' 'Clothing' 'Beauty' 'Electronics' 'Beauty' 'Electronics'\n",
      " 'Beauty' 'Beauty' 'Clothing' 'Electronics' 'Clothing' 'Electronics'\n",
      " 'Beauty' 'Beauty' 'Electronics' 'Clothing' 'Clothing' 'Clothing'\n",
      " 'Clothing' 'Beauty' 'Beauty' 'Beauty' 'Beauty' 'Beauty' 'Clothing'\n",
      " 'Clothing' 'Clothing' 'Clothing' 'Beauty' 'Beauty' 'Beauty' 'Electronics'\n",
      " 'Clothing' 'Clothing' 'Beauty' 'Clothing' 'Clothing' 'Beauty'\n",
      " 'Electronics' 'Electronics' 'Electronics' 'Beauty' 'Clothing' 'Beauty'\n",
      " 'Beauty' 'Clothing' 'Electronics' 'Electronics' 'Beauty' 'Electronics'\n",
      " 'Beauty' 'Beauty' 'Clothing' 'Clothing' 'Clothing' 'Beauty' 'Clothing'\n",
      " 'Electronics' 'Electronics' 'Beauty' 'Beauty' 'Clothing' 'Beauty'\n",
      " 'Beauty' 'Electronics' 'Electronics' 'Clothing' 'Beauty' 'Beauty'\n",
      " 'Electronics' 'Beauty' 'Electronics' 'Clothing' 'Electronics' 'Beauty'\n",
      " 'Clothing' 'Electronics' 'Electronics' 'Clothing' 'Clothing'\n",
      " 'Electronics' 'Beauty' 'Electronics' 'Clothing' 'Electronics' 'Clothing'\n",
      " 'Clothing' 'Beauty' 'Clothing' 'Clothing' 'Beauty' 'Clothing' 'Beauty'\n",
      " 'Beauty' 'Clothing' 'Clothing' 'Electronics' 'Beauty' 'Electronics'\n",
      " 'Clothing' 'Electronics' 'Beauty' 'Electronics' 'Beauty' 'Clothing'\n",
      " 'Clothing' 'Beauty' 'Clothing' 'Clothing' 'Clothing' 'Clothing' 'Beauty'\n",
      " 'Electronics' 'Electronics' 'Clothing' 'Electronics' 'Electronics'\n",
      " 'Clothing' 'Clothing' 'Electronics' 'Beauty' 'Clothing' 'Beauty'\n",
      " 'Electronics' 'Clothing' 'Beauty' 'Clothing' 'Electronics' 'Beauty'\n",
      " 'Electronics' 'Electronics' 'Clothing' 'Beauty' 'Electronics'\n",
      " 'Electronics' 'Beauty' 'Electronics' 'Electronics' 'Beauty' 'Beauty'\n",
      " 'Beauty' 'Beauty' 'Clothing' 'Beauty' 'Clothing' 'Clothing' 'Clothing'\n",
      " 'Electronics' 'Clothing' 'Clothing' 'Electronics' 'Electronics'\n",
      " 'Electronics' 'Beauty' 'Electronics' 'Electronics' 'Clothing'\n",
      " 'Electronics' 'Beauty' 'Electronics' 'Beauty' 'Electronics' 'Electronics'\n",
      " 'Electronics' 'Electronics' 'Beauty' 'Beauty' 'Clothing' 'Beauty'\n",
      " 'Electronics' 'Clothing' 'Clothing' 'Clothing' 'Electronics' 'Beauty'\n",
      " 'Electronics' 'Clothing' 'Electronics' 'Electronics' 'Beauty' 'Beauty'\n",
      " 'Clothing' 'Electronics' 'Electronics' 'Beauty' 'Electronics'\n",
      " 'Electronics' 'Electronics' 'Beauty' 'Clothing' 'Clothing' 'Electronics'\n",
      " 'Clothing' 'Beauty' 'Beauty' 'Clothing' 'Clothing' 'Electronics'\n",
      " 'Clothing' 'Electronics' 'Electronics' 'Beauty' 'Beauty' 'Beauty'\n",
      " 'Beauty' 'Clothing' 'Beauty' 'Clothing' 'Beauty' 'Clothing' 'Electronics'\n",
      " 'Clothing' 'Clothing' 'Beauty' 'Clothing' 'Electronics' 'Electronics'\n",
      " 'Beauty' 'Electronics' 'Clothing' 'Electronics' 'Beauty' 'Clothing'\n",
      " 'Beauty' 'Clothing' 'Electronics' 'Beauty' 'Beauty' 'Clothing' 'Beauty'\n",
      " 'Clothing' 'Clothing' 'Clothing' 'Clothing' 'Electronics' 'Clothing'\n",
      " 'Beauty' 'Electronics' 'Beauty' 'Electronics' 'Clothing' 'Electronics'\n",
      " 'Electronics' 'Beauty' 'Beauty' 'Clothing' 'Electronics' 'Electronics'\n",
      " 'Electronics' 'Clothing' 'Clothing' 'Clothing' 'Clothing' 'Clothing'\n",
      " 'Beauty' 'Electronics' 'Electronics' 'Electronics' 'Electronics'\n",
      " 'Electronics' 'Electronics' 'Electronics' 'Electronics' 'Beauty'\n",
      " 'Electronics' 'Beauty' 'Clothing' 'Electronics' 'Clothing' 'Clothing'\n",
      " 'Clothing' 'Beauty' 'Clothing' 'Clothing' 'Clothing' 'Electronics'\n",
      " 'Electronics' 'Beauty' 'Beauty' 'Electronics' 'Beauty' 'Electronics'\n",
      " 'Clothing' 'Clothing' 'Beauty' 'Electronics' 'Electronics' 'Beauty'\n",
      " 'Electronics' 'Clothing' 'Beauty' 'Beauty' 'Electronics' 'Beauty'\n",
      " 'Electronics' 'Electronics' 'Electronics' 'Electronics' 'Electronics'\n",
      " 'Beauty' 'Clothing' 'Clothing' 'Beauty' 'Beauty' 'Clothing' 'Clothing'\n",
      " 'Clothing' 'Clothing' 'Clothing' 'Electronics' 'Beauty' 'Electronics'\n",
      " 'Clothing' 'Clothing' 'Clothing' 'Electronics' 'Electronics' 'Clothing'\n",
      " 'Electronics' 'Electronics' 'Clothing' 'Electronics' 'Beauty' 'Beauty'\n",
      " 'Beauty' 'Beauty' 'Clothing' 'Clothing' 'Clothing' 'Beauty' 'Beauty'\n",
      " 'Electronics' 'Electronics' 'Beauty' 'Beauty' 'Beauty' 'Beauty'\n",
      " 'Electronics' 'Beauty' 'Electronics' 'Beauty' 'Beauty' 'Beauty'\n",
      " 'Electronics' 'Electronics' 'Clothing' 'Beauty' 'Clothing' 'Clothing'\n",
      " 'Electronics' 'Electronics' 'Clothing' 'Beauty' 'Electronics' 'Beauty'\n",
      " 'Beauty' 'Clothing' 'Clothing' 'Clothing' 'Clothing' 'Electronics'\n",
      " 'Electronics' 'Clothing' 'Electronics' 'Clothing' 'Beauty' 'Beauty'\n",
      " 'Beauty' 'Clothing' 'Beauty' 'Electronics' 'Beauty' 'Beauty' 'Beauty'\n",
      " 'Electronics' 'Clothing' 'Electronics' 'Clothing' 'Clothing' 'Beauty'\n",
      " 'Clothing' 'Electronics' 'Electronics' 'Clothing' 'Beauty' 'Beauty'\n",
      " 'Electronics' 'Beauty' 'Clothing' 'Clothing' 'Electronics' 'Clothing'\n",
      " 'Electronics' 'Clothing' 'Electronics' 'Beauty' 'Clothing' 'Clothing'\n",
      " 'Electronics' 'Electronics' 'Clothing' 'Electronics' 'Clothing' 'Beauty'\n",
      " 'Electronics' 'Clothing' 'Beauty' 'Beauty' 'Clothing' 'Electronics'\n",
      " 'Clothing' 'Beauty' 'Clothing' 'Electronics' 'Beauty' 'Clothing'\n",
      " 'Electronics' 'Beauty' 'Electronics' 'Beauty' 'Clothing' 'Electronics'\n",
      " 'Beauty' 'Electronics' 'Electronics' 'Clothing' 'Electronics' 'Beauty'\n",
      " 'Beauty' 'Beauty' 'Beauty' 'Clothing' 'Electronics' 'Clothing'\n",
      " 'Electronics' 'Electronics' 'Electronics' 'Clothing' 'Electronics'\n",
      " 'Clothing' 'Beauty' 'Beauty' 'Electronics' 'Clothing' 'Beauty' 'Clothing'\n",
      " 'Clothing' 'Electronics' 'Beauty' 'Electronics' 'Electronics' 'Beauty'\n",
      " 'Beauty' 'Clothing' 'Beauty' 'Clothing' 'Clothing' 'Clothing' 'Beauty'\n",
      " 'Electronics' 'Clothing' 'Electronics' 'Electronics' 'Beauty'\n",
      " 'Electronics' 'Electronics' 'Beauty' 'Clothing' 'Electronics' 'Beauty'\n",
      " 'Electronics' 'Electronics' 'Clothing' 'Electronics' 'Beauty'\n",
      " 'Electronics' 'Clothing' 'Clothing' 'Beauty' 'Clothing' 'Electronics'\n",
      " 'Clothing' 'Beauty' 'Clothing' 'Clothing' 'Clothing' 'Beauty' 'Clothing'\n",
      " 'Clothing' 'Electronics' 'Beauty' 'Clothing' 'Beauty' 'Clothing'\n",
      " 'Clothing' 'Clothing' 'Electronics' 'Electronics' 'Electronics' 'Beauty'\n",
      " 'Beauty' 'Electronics' 'Beauty' 'Clothing' 'Clothing' 'Clothing'\n",
      " 'Electronics' 'Beauty' 'Electronics' 'Beauty' 'Clothing' 'Electronics'\n",
      " 'Beauty' 'Beauty' 'Clothing' 'Electronics' 'Electronics' 'Electronics'\n",
      " 'Clothing' 'Electronics' 'Clothing' 'Clothing' 'Clothing' 'Beauty'\n",
      " 'Electronics' 'Electronics' 'Clothing' 'Clothing' 'Electronics'\n",
      " 'Clothing' 'Electronics' 'Beauty' 'Clothing' 'Electronics' 'Clothing'\n",
      " 'Electronics' 'Electronics' 'Clothing' 'Beauty' 'Electronics'\n",
      " 'Electronics' 'Electronics' 'Beauty' 'Beauty' 'Clothing' 'Beauty'\n",
      " 'Clothing' 'Clothing' 'Beauty' 'Clothing' 'Beauty' 'Clothing' 'Beauty'\n",
      " 'Beauty' 'Clothing' 'Electronics' 'Clothing' 'Beauty' 'Electronics'\n",
      " 'Clothing' 'Clothing' 'Clothing' 'Electronics' 'Beauty' 'Clothing'\n",
      " 'Clothing' 'Clothing' 'Clothing' 'Clothing' 'Beauty' 'Beauty' 'Clothing'\n",
      " 'Electronics' 'Beauty' 'Electronics' 'Beauty' 'Clothing' 'Beauty'\n",
      " 'Clothing' 'Beauty' 'Clothing' 'Clothing' 'Clothing' 'Clothing'\n",
      " 'Electronics' 'Clothing' 'Electronics' 'Electronics' 'Clothing'\n",
      " 'Electronics' 'Beauty' 'Clothing' 'Electronics' 'Clothing' 'Clothing'\n",
      " 'Clothing' 'Electronics' 'Beauty' 'Beauty' 'Electronics' 'Clothing'\n",
      " 'Electronics' 'Electronics' 'Electronics' 'Clothing' 'Electronics'\n",
      " 'Clothing' 'Electronics' 'Beauty' 'Electronics' 'Electronics' 'Beauty'\n",
      " 'Clothing' 'Clothing' 'Electronics' 'Beauty' 'Clothing' 'Electronics'\n",
      " 'Beauty' 'Clothing' 'Clothing' 'Beauty' 'Beauty' 'Beauty' 'Beauty'\n",
      " 'Electronics' 'Beauty' 'Clothing' 'Clothing' 'Electronics' 'Clothing'\n",
      " 'Clothing' 'Beauty' 'Clothing' 'Electronics' 'Beauty' 'Beauty'\n",
      " 'Electronics' 'Beauty' 'Beauty' 'Electronics' 'Beauty' 'Electronics'\n",
      " 'Electronics' 'Clothing' 'Clothing' 'Beauty' 'Beauty' 'Electronics'\n",
      " 'Beauty' 'Electronics' 'Electronics' 'Beauty' 'Electronics' 'Clothing'\n",
      " 'Beauty' 'Clothing' 'Beauty' 'Electronics' 'Beauty' 'Clothing'\n",
      " 'Electronics' 'Beauty' 'Beauty' 'Beauty' 'Clothing' 'Clothing' 'Beauty'\n",
      " 'Electronics' 'Electronics' 'Clothing' 'Electronics' 'Clothing' 'Beauty'\n",
      " 'Clothing' 'Clothing' 'Beauty' 'Electronics' 'Clothing' 'Clothing'\n",
      " 'Beauty' 'Electronics' 'Clothing' 'Beauty' 'Clothing' 'Beauty'\n",
      " 'Electronics' 'Electronics' 'Electronics' 'Electronics' 'Clothing'\n",
      " 'Clothing' 'Electronics' 'Electronics' 'Electronics' 'Clothing'\n",
      " 'Electronics' 'Electronics' 'Electronics' 'Beauty' 'Electronics' 'Beauty'\n",
      " 'Beauty' 'Electronics' 'Beauty' 'Electronics' 'Clothing' 'Clothing'\n",
      " 'Clothing' 'Clothing' 'Beauty' 'Electronics' 'Electronics' 'Electronics'\n",
      " 'Clothing' 'Clothing' 'Electronics' 'Clothing' 'Electronics'\n",
      " 'Electronics' 'Electronics' 'Electronics' 'Electronics' 'Electronics'\n",
      " 'Electronics' 'Clothing' 'Electronics' 'Electronics' 'Clothing'\n",
      " 'Clothing' 'Clothing' 'Electronics' 'Beauty' 'Beauty' 'Clothing' 'Beauty'\n",
      " 'Clothing' 'Electronics' 'Beauty' 'Electronics' 'Beauty' 'Electronics'\n",
      " 'Beauty' 'Electronics' 'Electronics' 'Beauty' 'Electronics' 'Electronics'\n",
      " 'Electronics' 'Beauty' 'Beauty' 'Electronics' 'Electronics' 'Beauty'\n",
      " 'Beauty' 'Electronics' 'Electronics' 'Electronics' 'Clothing' 'Beauty'\n",
      " 'Clothing' 'Beauty' 'Beauty' 'Beauty' 'Beauty' 'Beauty' 'Beauty' 'Beauty'\n",
      " 'Clothing' 'Electronics' 'Electronics' 'Clothing' 'Clothing' 'Clothing'\n",
      " 'Clothing' 'Beauty' 'Electronics' 'Beauty' 'Electronics' 'Electronics'\n",
      " 'Clothing' 'Beauty' 'Clothing' 'Beauty' 'Electronics' 'Clothing'\n",
      " 'Clothing' 'Electronics' 'Electronics' 'Electronics' 'Clothing' 'Beauty'\n",
      " 'Clothing' 'Beauty' 'Clothing' 'Clothing' 'Electronics' 'Beauty'\n",
      " 'Clothing' 'Clothing' 'Electronics' 'Electronics' 'Beauty' 'Clothing'\n",
      " 'Beauty' 'Clothing' 'Beauty' 'Electronics' 'Clothing' 'Beauty'\n",
      " 'Electronics' 'Electronics' 'Beauty' 'Clothing' 'Clothing' 'Electronics'\n",
      " 'Clothing' 'Clothing' 'Clothing' 'Electronics' 'Beauty' 'Clothing'\n",
      " 'Electronics' 'Electronics' 'Beauty' 'Clothing' 'Clothing' 'Beauty'\n",
      " 'Beauty' 'Electronics' 'Electronics']\n"
     ]
    }
   ],
   "source": [
    "# se extraen las categorias en un array\n",
    "categories = data_filtered[:,2]\n",
    "# verificamos que es un array\n",
    "print(type(categories))\n",
    "# se imprime el resultado\n",
    "print(categories)"
   ]
  },
  {
   "cell_type": "code",
   "execution_count": 7,
   "metadata": {},
   "outputs": [
    {
     "name": "stdout",
     "output_type": "stream",
     "text": [
      "['Beauty' 'Clothing' 'Electronics']\n"
     ]
    }
   ],
   "source": [
    "# se identifican las categorias del dataset\n",
    "unique_categories = np.unique(categories)\n",
    "print(unique_categories)"
   ]
  },
  {
   "cell_type": "code",
   "execution_count": 8,
   "metadata": {},
   "outputs": [
    {
     "name": "stdout",
     "output_type": "stream",
     "text": [
      "<class 'numpy.ndarray'>\n",
      "[ 150. 1000.   30.  500.  100.   30.   50.  100.  600.  200.  100.   75.\n",
      " 1500.  120. 2000. 1500.  100.   50.   50.  900.  500.  100.  120.  300.\n",
      "   50. 1000.   50.  500.   30.  900. 1200.   90.  100.  150.  900.  900.\n",
      "   75.  200.  120.   50.   50.  900.  300.   25.   30. 1200. 1500.  900.\n",
      " 1000.   75.   75.  300.  100. 1500.  120.  900.   30. 1200.   50.  150.\n",
      "  200.  100.   50.  100. 2000.   30. 1200.  300.   75.  300.  100. 2000.\n",
      "   90. 2000.  200.  100.  100. 1500.  300.   60.   50.  200.  100.   90.\n",
      "  150.   90.  100.  500. 2000.   30.  500.  120. 2000. 1000.   60.  600.\n",
      " 1000.  100. 1200.   30.  600.   50.   25. 1000.  500.   50. 1200.   75.\n",
      " 2000.  900. 1500. 1500.   50.  100. 1500.   30. 1000. 2000.  150.   50.\n",
      "  200.  120.   60. 2000.  100.   90.   50.  500.  600.  500.  600.  200.\n",
      "  900.   50.   50.  600. 1000.  200. 2000.   30.   50. 1200.   50. 1500.\n",
      "   75.  200.  300.   60.   75.  120.   50. 2000. 1000.  900. 2000.  100.\n",
      " 2000.  600.  200.  100. 1000.   60.  150. 1500. 1200. 2000.  150.  300.\n",
      " 1500.   50.  900.   50.  120.  300.  100.  100.  100.   60.  300.  900.\n",
      " 1200.  120.  900.  200.   25.  200.  100.   75.   50.   90.   25.  100.\n",
      " 1500.  200.   30.  900.  200.  900. 1500.  150.   25. 1200. 1000.   25.\n",
      "   25.   25.   50.  200.  200.  200. 1500. 1500. 1500.   60. 1500.  100.\n",
      "  200.   90.   90.  500.  600.  120.   25.   50.  100.   50.  100.   60.\n",
      "   90.   25.  150.   25.  600.   50. 1000.   25. 1000.  500. 1500.  300.\n",
      "   75.   25.  900.  100.   90.   50.   60.  900.   50.   50.  200.  300.\n",
      " 2000.  500.   30. 1000. 2000.   50.  200.   60.   50.  120.   60.  900.\n",
      "  900.   60.   90.   30. 2000.  300.  120.  100.   50. 1000. 1000.  100.\n",
      "  100.  100.  500. 1500. 2000.  200.  500.  200.   25.   50.  100.  120.\n",
      "   60.  600.  600. 1200.   90.   90.  900. 1200. 1000. 1200. 1000.  200.\n",
      "  120.  600.   90.   60.   30.   50.   50. 1200.   25.   25.  100.  120.\n",
      " 1500.  120.   60.   50.   90.   25.  500. 1200.   50.  500.  900.  150.\n",
      "   50.   75.  150.  100.  100.  200.   90. 1200. 1200.  900.  120.  150.\n",
      "  500.  100.   50. 1200.  200. 2000.   50.   30.   30. 1000.   25.  600.\n",
      "   50.   75.   90. 1000.  500.  200.  500. 1500.   75.  300.   50.  100.\n",
      " 1200.   25.   25.  500.  300.  100.   50. 1200. 1500.   60.   25. 1500.\n",
      "  600.   75.   50.   30.  200.  300.   25.  600.  100. 1000.   90.  500.\n",
      " 1500.  600.   30.   25.   50.  100.   50.  600. 1000.  500. 1000.   30.\n",
      "   25.  600.   60.  200.  300.  600.  600. 1000. 1200.  100.  900.  500.\n",
      "  900.  100.  200. 2000.   75.  100.   60. 2000.  900. 1000.   90. 2000.\n",
      " 1500.   90.   25. 1200.  120.  150.   25.  200.   50.  900. 1200. 1000.\n",
      "  200.   50.  900.  120. 1200.   30.   75.  600. 1200.  100.  600.   90.\n",
      "  300.   50. 2000.   60.  200.   50.   30. 1500. 1000.   25.  100.   60.\n",
      "  900.  100. 1200.   50. 1000. 1200. 1500.  600.  150.  100.  150.   25.\n",
      "   75. 1000.  150.  900.   50. 1500.   75. 2000.  120.   60. 1200. 2000.\n",
      " 1200. 1200.   30. 1200.   30.   25. 2000.  900.   30.  150.  900.  100.\n",
      "   50.  200.   60.  600.  120.  100.   60.  100.   60.  150. 2000.  150.\n",
      "   50. 1500. 1500.  600.  900.  200.  100.   25.  100.  300.  900.  100.\n",
      "  100.   30.  120.  100.  120. 1500.  300. 1200.   50.  100.   50.   60.\n",
      "  150.  120.  500.  120. 1500. 1000.   90.  120.  500.  150.  500.  900.\n",
      "  500.   50.  600.   25.   50.  200. 2000.   60.  100.  900.  900.   75.\n",
      " 1200.  150.  300.   50.   90.   25. 1200.   50. 2000.   50.   60.  100.\n",
      "   60.   30.  900.  300.  200.  500.   50. 2000.   60.   50.  100.  150.\n",
      " 2000.  120.   30. 1500.   60.  900.  100.  200.   25.   50. 1200.   60.\n",
      " 1000.  900.  100. 2000.   60.  600. 2000.  300. 1200.  120.  100. 1000.\n",
      "   30.  300.   90.  200. 1000.   50.   75. 1500.  100.  600. 1500.  500.\n",
      "   90. 1200.  100.  100.   30.   50.  100.   75. 1000.   75.  150.  900.\n",
      "  300. 2000.   50.  200.   50.  100.   90.  100.  120. 2000.  900. 1500.\n",
      "  600.  500.  200.  120.  300.  100.   90.   75.  120.   90. 1500. 1200.\n",
      "  600.   30.  150.  100.   75.   75.  500.   90.   25.   25.   30. 1000.\n",
      "  100. 1000. 1200. 2000.   50.  150.  500.  150. 1200.   30.  150.  100.\n",
      " 1500.  300.   60. 1500. 1500.  900.   90.  900.   60. 1200. 1000. 1000.\n",
      "   50.  200.  300.  100.  100.  900.   90.  100. 1500.   50.  150.  200.\n",
      "  500.  300.  120. 2000.   60.  600.  100.   90.   50.  100.  500.  900.\n",
      " 1000. 1500. 1500.   50.   75.  500.  100. 1200.  500.   75.   60. 1500.\n",
      "  500.  900.  200.  150.  300. 1200.  900.  150. 1200.   50. 2000. 1000.\n",
      "   30.   30. 2000.  100.   50.  100.   25.  200.  300. 2000. 2000.   25.\n",
      "  100.   90.   30.  150.   30.   75.   50.  100.   30.  100.   75. 1200.\n",
      " 1200.  100.  100.  500.  500.   50.   50.   25.  200.  900.   75.   75.\n",
      "  120.   50.   50.   30. 2000.   50.  100.   90.  150.  100. 1000.   50.\n",
      "  500.  900.  300.  500.  200.  100.   25.  900. 2000.   25.   25.   50.\n",
      "   30.  300.  300.  120.   75.   50.  100. 1200.  200.   30.  100.   30.\n",
      " 1500.  900.  200. 2000.  100.  100.   50.   75.  150.  500.   75. 1000.\n",
      "  200.  500.  100.  200.  300.  150.  100.  120.   25.  300.  900. 1200.\n",
      "   90.  150.  100. 2000.  200.   60.  200.   50.   90.  600. 1200.   50.\n",
      "  100.  600. 1500.  150.  500.   50. 1200.   75.   50. 1000.   50.  300.\n",
      " 1000.   50.   25.  120.   50.  100. 1500.  200.   90. 1200.   50.  500.\n",
      "  300.   50.  500.  300. 1500.  120.   60.   75.  100.   30. 2000.  120.\n",
      "   25.   30.   30. 1000.  300.   50.  500.   60.  120.  900.  100.  100.\n",
      "   50.   50.  900.   50.   50.   30.  120.   50.  100.   90.  600.   60.\n",
      "   30.   50.  200.  500.  300.   50.   25. 1200.  300.  150.  900.  150.\n",
      "   90.  500.   90.   50.  200.   90.   50.   75.   75.   50.  900.  100.\n",
      "  300.   30. 2000. 1200.   75.  200.  120.  100.   30.  500.   50.  200.\n",
      "  500.  200.  300.   30.   50. 1500. 1200.   50.   25. 2000.  300.   75.\n",
      "   50.  900.  100.   25.   90.  900.   25. 1500.  120.   50.   60.   60.\n",
      "  200.   60.   50.  900.  200. 1000.   25.  900.  900. 2000.  200.  100.\n",
      "   50.   30.  200.  600.   75.  150.   25.   75.   60.   90.  300.  500.\n",
      "   50. 1000.  900.   75.   25. 1000.  100.   60.  150. 1000.   30.   50.\n",
      "   90.  100.  150.  120.]\n"
     ]
    }
   ],
   "source": [
    "# se extraen las ventas en un array\n",
    "sales = data_filtered[:,5]\n",
    "# se verifica que sea un array\n",
    "print(type(sales))\n",
    "\n",
    "# recordar que era tipo string y convertir a float\n",
    "sales = sales.astype(float)\n",
    "# se imprime el resultado\n",
    "print(sales)"
   ]
  },
  {
   "cell_type": "code",
   "execution_count": 9,
   "metadata": {},
   "outputs": [
    {
     "name": "stdout",
     "output_type": "stream",
     "text": [
      "Total de ventas en la sección \"Beauty\": 143515.0\n",
      "Total de ventas en la sección \"Clothing\": 155580.0\n",
      "Total de ventas en la sección \"Electronics\": 156905.0\n"
     ]
    }
   ],
   "source": [
    "# se calculan las ventas por categoria\n",
    "# se inicializa las variables contadoras\n",
    "sales_beauty = 0\n",
    "sales_clothing = 0\n",
    "sales_electronics = 0\n",
    "\n",
    "# se itera sobre las categorias \n",
    "for i in range(len(categories)):\n",
    "    if categories[i] == 'Beauty':\n",
    "        sales_beauty += sales[i]\n",
    "    elif categories[i] == 'Clothing':\n",
    "        sales_clothing += sales[i]\n",
    "    else:\n",
    "        sales_electronics += sales[i]\n",
    "\n",
    "print('Total de ventas en la sección \"Beauty\":', sales_beauty)\n",
    "print('Total de ventas en la sección \"Clothing\":', sales_clothing)\n",
    "print('Total de ventas en la sección \"Electronics\":', sales_electronics)"
   ]
  },
  {
   "cell_type": "markdown",
   "metadata": {},
   "source": [
    "**Método 2:** Usando np.sum()"
   ]
  },
  {
   "cell_type": "code",
   "execution_count": 10,
   "metadata": {},
   "outputs": [
    {
     "name": "stdout",
     "output_type": "stream",
     "text": [
      "Total de ventas en la sección \"Beauty\": 143515.0\n",
      "Total de ventas en la sección \"Clothing\": 155580.0\n",
      "Total de ventas en la sección \"Electronics\": 156905.0\n"
     ]
    }
   ],
   "source": [
    "# funcion que calcula el total de ventas por categoria y devuelve una lista\n",
    "def sales_by_category(sales,categories):\n",
    "    sales_beauty = np.sum(sales[categories == 'Beauty'])\n",
    "    sales_clothing = np.sum(sales[categories == 'Clothing'])\n",
    "    sales_electronics = np.sum(sales[categories == 'Electronics'])\n",
    "    return([sales_beauty, sales_clothing,sales_electronics])\n",
    "\n",
    "category_totals = sales_by_category(sales,categories)\n",
    "\n",
    "print('Total de ventas en la sección \"Beauty\":', category_totals[0])\n",
    "print('Total de ventas en la sección \"Clothing\":', category_totals[1])\n",
    "print('Total de ventas en la sección \"Electronics\":', category_totals[2])"
   ]
  },
  {
   "cell_type": "markdown",
   "metadata": {},
   "source": [
    "### **Ejercicio 2:** Calcular el promedio de ventas por categoría."
   ]
  },
  {
   "cell_type": "code",
   "execution_count": 11,
   "metadata": {},
   "outputs": [
    {
     "name": "stdout",
     "output_type": "stream",
     "text": [
      "Promedio total de ventas en la sección \"Beauty\": 467.4755700325733\n",
      "Promedio total de ventas en la sección \"Clothing\": 443.2478632478632\n",
      "Promedio total de ventas en la sección \"Electronics\": 458.7865497076023\n"
     ]
    }
   ],
   "source": [
    "# funcion que calcula el promedio de ventas por categoria\n",
    "def mean_by_category(sales,categories):\n",
    "    mean_beauty = np.mean(sales[categories == 'Beauty'])\n",
    "    mean_clothing = np.mean(sales[categories == 'Clothing'])\n",
    "    mean_electronics = np.mean(sales[categories == 'Electronics'])\n",
    "    return([mean_beauty,mean_clothing,mean_electronics])\n",
    "\n",
    "category_mean = mean_by_category(sales,categories)\n",
    "\n",
    "print('Promedio total de ventas en la sección \"Beauty\":', category_mean[0])\n",
    "print('Promedio total de ventas en la sección \"Clothing\":', category_mean[1])\n",
    "print('Promedio total de ventas en la sección \"Electronics\":', category_mean[2])"
   ]
  },
  {
   "cell_type": "markdown",
   "metadata": {},
   "source": [
    "### **Ejercicio 3:** Identificar las categorias con mayores y menores ventas"
   ]
  },
  {
   "cell_type": "code",
   "execution_count": 12,
   "metadata": {},
   "outputs": [
    {
     "name": "stdout",
     "output_type": "stream",
     "text": [
      "Categoria con mayor ventas:  Electronics\n",
      "Categoria con menores ventas:  Beauty\n"
     ]
    }
   ],
   "source": [
    "# funcion que identifica la categoria con mayor y menor venta \n",
    "def more_less_sales(category_totals):\n",
    "        more_sales = np.argmax(category_totals)\n",
    "        less_sales = np.argmin(category_totals)\n",
    "        return (more_sales,less_sales)\n",
    "\n",
    "more_sales, less_sales = more_less_sales(category_totals)\n",
    "\n",
    "# haciendo uso del array unique_categories se nombra las categorias\n",
    "\n",
    "print(\"Categoria con mayor ventas: \", unique_categories[more_sales])\n",
    "print(\"Categoria con menores ventas: \", unique_categories[less_sales])"
   ]
  },
  {
   "cell_type": "markdown",
   "metadata": {},
   "source": [
    "### **Ejercicio 4:** Filtrar los datos para mostrar solo las ventas de una categoría específica."
   ]
  },
  {
   "cell_type": "code",
   "execution_count": 13,
   "metadata": {},
   "outputs": [
    {
     "name": "stdout",
     "output_type": "stream",
     "text": [
      "[ 150.  100.   30.   75.  500.   50.   50.  500.  900.   90.  900.  900.\n",
      "   75.  200.   50. 1500.   75.   75.  300.  120.   30.  150.  200.  100.\n",
      " 1200.   75.  100. 2000.  200.  300.  200.   90.  100. 2000. 1000. 1000.\n",
      "  100.   50. 1000.   75.  100.   50.  500.  600.  600. 1000. 2000. 1500.\n",
      " 1000. 1500. 1500.   50.  300.  100.  100.  120.  900.   50.   90.   25.\n",
      "  100. 1500.  900. 1500.  150.   25.   50. 1500. 1500.   60.   90.  500.\n",
      "  600.  100.   90.   25.   25.  600. 1000.  500.  300.  100.  200. 2000.\n",
      "   60.  120.   60.   90.  120.   50.  100. 2000.  600. 1200.  900. 1200.\n",
      "  600.   30. 1200.   25.   25.  100. 1500.  900.  100.  200.  120.  150.\n",
      "  100.   30.   50.   75.  200.  300.   25.  500.   25. 1500.  600.   75.\n",
      "   30.  300.   90.   30.   50. 1000.   30.   25.   60.  100.  500.   75.\n",
      "  100. 1200.  200.  900. 1200. 2000.   60.   50.   25.  900.   50. 1000.\n",
      " 1500.   75.  900.   50. 2000.  100.   50.  200.   60.   60.  100. 2000.\n",
      "  150.   50. 1500.  600.  200.  100.   25.  100. 1500. 1200.   50.   90.\n",
      "  120.  500.  500.  500.   50.  600.  100.  150.  300.   90.   60.   60.\n",
      "  150. 2000.   60.  200. 1200. 1000. 2000. 1200.  120.  100. 1000.  600.\n",
      " 1500. 1200.   50. 1000.   75.  900.  200.  120. 1500.  200.   75. 1200.\n",
      "  100.   90. 1000. 1000. 1200.   30.  100. 1500.   90. 1200. 1000. 1500.\n",
      "   60.  900.   50.   75.  100.   75. 1500.  900.  200.  900.   30.   25.\n",
      "  200. 2000.  100.   30.   30.  500.   75.   75.  100.  500.  200.  900.\n",
      "   25.   50.   30.  300.  120.   30. 1500.  900. 2000.  100.   50. 1000.\n",
      "  200.  100.  150.   25.  900.   90. 2000.  200.   60.   90. 1500.   50.\n",
      " 1000. 1000.   25. 1500.   60.   75.   30. 1000.   50.  200.  300. 1200.\n",
      "  150.  150.   90.   50.   75.  900.  100.   75.  120.  100.   30.  500.\n",
      "   50.  200.  500.   25.  300.  100.   90.  200.   50.   25.  100.   30.\n",
      "  600.   25.   90. 1000. 1000.   90.  100.]\n"
     ]
    }
   ],
   "source": [
    "# mostrar las ventas de la categoria beauty\n",
    "beauty = sales[categories == 'Beauty']\n",
    "print(beauty)"
   ]
  },
  {
   "cell_type": "code",
   "execution_count": 14,
   "metadata": {},
   "outputs": [
    {
     "name": "stdout",
     "output_type": "stream",
     "text": [
      "[1000.  500.   50.  200.  100.  120. 1500.  100.   50.  900.  100.  120.\n",
      "  300.  150.  120.   50.  900.  300.   25.  900. 1200.   50.  100.  300.\n",
      "  100. 1500.   60.  150.  500.   60.  600.  600.   25.   50. 1200.  900.\n",
      " 1500. 1500.   30.  150. 2000.  100.   90.   50.  500.   50.  200.   50.\n",
      "   75.  200.   60.   75.   50.  100.  200.  100.   60.  150. 1200. 2000.\n",
      "  150.  300.   50.  900.   60.  900.   25.  200.  100.   75.  200.   30.\n",
      "  900.  200. 1200. 1000.   25.   25. 1500. 1500.  120.   25.   50.   50.\n",
      "  150.   25.   25.   90.  900.   50. 2000.   30. 1000.   50.  200.   50.\n",
      "  900.  900. 2000. 1000. 1000.  100.  100.  500. 1500.  200.  100.  120.\n",
      "  600.   90. 1200.  120.  120.  120.   60.   50.   25.  500.   75.  500.\n",
      " 1200.  200. 2000. 1000.   90.   50.  100.   25.  300.  100. 1200.   50.\n",
      "  200.   25.  100. 1000.  500.   50.  600.  500.  600.  200.  300.  600.\n",
      "  600. 1200.  100.   60.   90. 2000. 1500.   90.   25.  120.   30.   75.\n",
      "  600.  100.  600.   90. 1500. 1000. 1200. 1000.  150. 1500.   75. 2000.\n",
      "  120.   60. 1200.   30. 1200. 2000.  150.  600.  120.  100.  900.  100.\n",
      "   30.  120.  100.   50.   60.  150.  120. 1000.  150.   50. 2000.   60.\n",
      "  900. 1200.   25. 1200. 2000.   60.   30.  900.  500. 2000.  100.  120.\n",
      " 1500.  900.   25.  900. 2000.   30.   90.   75.  100.   90.  100.  100.\n",
      "  150.  300. 2000.   50.  100.  600.  100.   90. 1500.  600.  150.   75.\n",
      "   75.  500.   25.   25.  100. 1200. 2000.   50. 1500.  300.   60.  900.\n",
      " 1000.  100.  900.   90.  100.  200.  500.  120.  600.   90.  500.  500.\n",
      " 1200.  500.   60.  500.  150. 1200. 1200.   50. 2000.   30. 2000.  100.\n",
      "   50.  100.  300.   90.  150.   75.   50.  100.   30.   75.  100.  500.\n",
      "   50.   25.  200.   50.   50.   90.  900.  300.  100. 2000.   25.   75.\n",
      "   50. 1200.  200.  100.  500.   75.  120.  300.  150.  200.   50.   50.\n",
      "  600.  150.  500.   75.   50.  300.   50.  200.   90.  300.  120.   25.\n",
      "   30.   30.   60.  120.  100.  120.   90.  600.   60.  500.   50. 1200.\n",
      "  200.  200.   50. 1500. 1200.   50.  900.   25.   25. 1500.   60.   60.\n",
      "  900.  200.  900.  900.   50.  200.  150.  300.  500. 1000.  900.   75.\n",
      "  100.   30.   50.]\n"
     ]
    }
   ],
   "source": [
    "# mostrar las ventas de la categoria clothing\n",
    "clothing = sales[categories == 'Clothing']\n",
    "print(clothing)"
   ]
  },
  {
   "cell_type": "code",
   "execution_count": 15,
   "metadata": {},
   "outputs": [
    {
     "name": "stdout",
     "output_type": "stream",
     "text": [
      "[  30.  100.  600. 1500. 2000.   50. 1000.   30. 1200.  100.   30. 1200.\n",
      "  900. 1000.  100. 1500.   50. 2000.   30.  300. 2000.   90.  100.   50.\n",
      "  100.   90. 2000.   30.  500.  120. 1200.   30.  500. 2000. 1500.   50.\n",
      " 1000. 2000.  200.  120.   60.  200.  900.   50.  600.   30.   50. 1200.\n",
      "  300.  120. 2000. 1000.  900. 2000. 2000.  600.  120.  100.  300. 1200.\n",
      "  200.   25.  200.  200.  200.  100.  200.   90.  100.   60.   50. 1000.\n",
      " 1500.   75.  900.   50.   60.   50.  300.  500.   60.   30.  300.  100.\n",
      "  200.  500.   25.   50.   60.   90. 1000. 1000.  200.   90.   60.   50.\n",
      "   50.   90. 1200.   50.  500.  150.   50.  150.  100.   90. 1200. 1200.\n",
      "  900.   50.   50.   30.   25.  600. 1000.  500.  500. 1500.   75. 1200.\n",
      "   50. 1500.   60.  600. 1500.  600.   25.  100. 1000. 1000.  900.  900.\n",
      "  200. 2000. 2000.  900. 1000.  120.  150.   25.  200.   50.  900. 1200.\n",
      " 1000.   50. 1200.  300.   50.  200.   30.  100.   60.  100. 1200.  600.\n",
      "  150.  100.  150.   25. 1200. 1200.   30.   25.  900.   30.  900.   60.\n",
      "  150. 1500.  900.  100.  300.  120.  100.  300.  120.  500. 1500.  900.\n",
      "   25.  200.  900.   75.   50.   50.   50.  100.  300.  200.   50.   50.\n",
      "   30.  100.   50.   60.  100.   60.  600.  300.  300.  200. 1000.   50.\n",
      " 1500.  500.   30.  100.   75.   50.   90.  100. 2000.  900.  500.  120.\n",
      "  300.   90.  120.   30.   30.  150.  500.  150.  150. 1500.  900.   60.\n",
      "   50.  200.  300.  100.   50.  150.  300. 2000.  100.   50.  100. 1000.\n",
      " 1500. 1500.  300.  150. 1000. 2000.   25.  100. 1200. 1200.  100.   50.\n",
      "  900.  120.   50.   30. 2000.  100.  150. 1000.   50.  500.   25.  300.\n",
      "  100.   30.  200.  100.   75.  150.  500.  200.  300.  100. 1200.  100.\n",
      "  600. 1200.  100. 1200.   50.  120.   50.  100. 1500. 1200.   50.  500.\n",
      "   50.  500.  300.  120.  100. 2000.  300.   50.  500.  900.  100.   50.\n",
      "   50.  900.   50.   50.   30.   50.  100.   30.   25.  300.  900.   90.\n",
      "  500.   50.  200.   90.   75.   50.  300.   30. 2000.  300.   30. 2000.\n",
      "   75.   50.  900.  120.   50.   60. 1000. 2000.  200.   75.   75.   60.\n",
      "   50.   25.   60.  150.  150.  120.]\n"
     ]
    }
   ],
   "source": [
    "# mostrar las ventas de la categoria clothing\n",
    "electronics = sales[categories == 'Electronics']\n",
    "print(electronics)"
   ]
  },
  {
   "cell_type": "markdown",
   "metadata": {},
   "source": [
    "### **Ejercicio 5:** Filtrar los datos para mostrar solo las ventas de un genero específico."
   ]
  },
  {
   "cell_type": "code",
   "execution_count": 16,
   "metadata": {},
   "outputs": [
    {
     "name": "stdout",
     "output_type": "stream",
     "text": [
      "<class 'numpy.ndarray'>\n",
      "['Male' 'Female' 'Male' 'Male' 'Male' 'Female' 'Male' 'Male' 'Male'\n",
      " 'Female' 'Male' 'Male' 'Male' 'Male' 'Female' 'Male' 'Female' 'Female'\n",
      " 'Female' 'Male' 'Female' 'Male' 'Female' 'Female' 'Female' 'Female'\n",
      " 'Female' 'Female' 'Female' 'Female' 'Male' 'Male' 'Female' 'Female'\n",
      " 'Female' 'Male' 'Female' 'Male' 'Male' 'Male' 'Male' 'Male' 'Female'\n",
      " 'Female' 'Female' 'Female' 'Female' 'Male' 'Female' 'Female' 'Male'\n",
      " 'Female' 'Male' 'Female' 'Male' 'Female' 'Female' 'Male' 'Male' 'Male'\n",
      " 'Male' 'Male' 'Male' 'Male' 'Male' 'Female' 'Female' 'Male' 'Female'\n",
      " 'Female' 'Female' 'Female' 'Male' 'Female' 'Male' 'Female' 'Female'\n",
      " 'Female' 'Male' 'Female' 'Male' 'Female' 'Male' 'Female' 'Male' 'Male'\n",
      " 'Female' 'Male' 'Female' 'Female' 'Female' 'Female' 'Female' 'Female'\n",
      " 'Female' 'Female' 'Female' 'Female' 'Female' 'Male' 'Male' 'Female'\n",
      " 'Female' 'Female' 'Female' 'Female' 'Female' 'Female' 'Female' 'Male'\n",
      " 'Female' 'Male' 'Female' 'Female' 'Male' 'Female' 'Male' 'Female'\n",
      " 'Female' 'Male' 'Female' 'Male' 'Female' 'Male' 'Male' 'Female' 'Female'\n",
      " 'Male' 'Female' 'Female' 'Female' 'Male' 'Male' 'Male' 'Male' 'Male'\n",
      " 'Male' 'Male' 'Male' 'Male' 'Female' 'Male' 'Female' 'Female' 'Female'\n",
      " 'Male' 'Male' 'Male' 'Male' 'Female' 'Male' 'Male' 'Male' 'Male' 'Male'\n",
      " 'Female' 'Male' 'Female' 'Male' 'Female' 'Male' 'Male' 'Female' 'Female'\n",
      " 'Female' 'Male' 'Female' 'Male' 'Male' 'Female' 'Female' 'Male' 'Male'\n",
      " 'Female' 'Female' 'Female' 'Male' 'Male' 'Male' 'Male' 'Male' 'Male'\n",
      " 'Female' 'Male' 'Male' 'Male' 'Female' 'Male' 'Male' 'Female' 'Male'\n",
      " 'Male' 'Male' 'Male' 'Male' 'Female' 'Female' 'Female' 'Male' 'Male'\n",
      " 'Male' 'Female' 'Male' 'Male' 'Female' 'Male' 'Female' 'Female' 'Female'\n",
      " 'Male' 'Male' 'Male' 'Male' 'Male' 'Male' 'Male' 'Female' 'Male' 'Female'\n",
      " 'Male' 'Male' 'Male' 'Female' 'Female' 'Female' 'Female' 'Male' 'Female'\n",
      " 'Male' 'Male' 'Female' 'Female' 'Female' 'Female' 'Female' 'Female'\n",
      " 'Female' 'Female' 'Male' 'Female' 'Female' 'Male' 'Female' 'Male' 'Male'\n",
      " 'Female' 'Male' 'Male' 'Male' 'Male' 'Female' 'Male' 'Female' 'Male'\n",
      " 'Male' 'Male' 'Male' 'Female' 'Female' 'Male' 'Male' 'Female' 'Male'\n",
      " 'Male' 'Male' 'Female' 'Female' 'Female' 'Male' 'Male' 'Female' 'Female'\n",
      " 'Female' 'Female' 'Male' 'Female' 'Male' 'Female' 'Male' 'Female'\n",
      " 'Female' 'Female' 'Female' 'Male' 'Female' 'Male' 'Male' 'Male' 'Male'\n",
      " 'Female' 'Male' 'Male' 'Male' 'Female' 'Female' 'Female' 'Female' 'Male'\n",
      " 'Male' 'Female' 'Male' 'Male' 'Male' 'Female' 'Female' 'Male' 'Female'\n",
      " 'Female' 'Female' 'Female' 'Female' 'Male' 'Female' 'Male' 'Male'\n",
      " 'Female' 'Male' 'Male' 'Male' 'Female' 'Female' 'Male' 'Female' 'Female'\n",
      " 'Female' 'Female' 'Male' 'Male' 'Female' 'Female' 'Male' 'Male' 'Female'\n",
      " 'Male' 'Female' 'Female' 'Male' 'Male' 'Female' 'Female' 'Male' 'Female'\n",
      " 'Male' 'Female' 'Male' 'Male' 'Male' 'Female' 'Female' 'Male' 'Female'\n",
      " 'Male' 'Male' 'Female' 'Female' 'Male' 'Female' 'Female' 'Male' 'Male'\n",
      " 'Female' 'Male' 'Male' 'Female' 'Male' 'Male' 'Female' 'Female' 'Male'\n",
      " 'Male' 'Female' 'Female' 'Female' 'Female' 'Male' 'Female' 'Female'\n",
      " 'Male' 'Female' 'Male' 'Female' 'Female' 'Female' 'Male' 'Male' 'Female'\n",
      " 'Male' 'Male' 'Male' 'Male' 'Male' 'Male' 'Female' 'Female' 'Male'\n",
      " 'Female' 'Female' 'Female' 'Female' 'Male' 'Female' 'Female' 'Male'\n",
      " 'Male' 'Female' 'Female' 'Female' 'Female' 'Female' 'Female' 'Male'\n",
      " 'Female' 'Female' 'Male' 'Male' 'Male' 'Male' 'Female' 'Female' 'Female'\n",
      " 'Female' 'Female' 'Female' 'Male' 'Female' 'Male' 'Male' 'Female' 'Male'\n",
      " 'Female' 'Male' 'Female' 'Male' 'Female' 'Female' 'Female' 'Female'\n",
      " 'Female' 'Male' 'Male' 'Male' 'Female' 'Male' 'Female' 'Female' 'Male'\n",
      " 'Male' 'Female' 'Male' 'Female' 'Female' 'Female' 'Female' 'Female'\n",
      " 'Male' 'Male' 'Female' 'Female' 'Male' 'Male' 'Female' 'Male' 'Female'\n",
      " 'Male' 'Female' 'Male' 'Female' 'Male' 'Male' 'Female' 'Male' 'Female'\n",
      " 'Male' 'Female' 'Male' 'Female' 'Male' 'Female' 'Male' 'Female' 'Female'\n",
      " 'Female' 'Male' 'Female' 'Male' 'Female' 'Male' 'Female' 'Male' 'Male'\n",
      " 'Female' 'Male' 'Male' 'Female' 'Male' 'Male' 'Male' 'Female' 'Male'\n",
      " 'Female' 'Male' 'Male' 'Male' 'Female' 'Male' 'Male' 'Female' 'Male'\n",
      " 'Female' 'Female' 'Male' 'Female' 'Male' 'Female' 'Female' 'Male'\n",
      " 'Female' 'Female' 'Female' 'Female' 'Female' 'Male' 'Female' 'Male'\n",
      " 'Female' 'Male' 'Male' 'Female' 'Female' 'Female' 'Male' 'Female' 'Male'\n",
      " 'Male' 'Male' 'Female' 'Female' 'Male' 'Male' 'Female' 'Male' 'Female'\n",
      " 'Male' 'Female' 'Male' 'Female' 'Male' 'Female' 'Female' 'Male' 'Male'\n",
      " 'Female' 'Male' 'Female' 'Male' 'Female' 'Female' 'Female' 'Female'\n",
      " 'Female' 'Female' 'Male' 'Male' 'Male' 'Female' 'Female' 'Female'\n",
      " 'Female' 'Male' 'Male' 'Female' 'Male' 'Male' 'Female' 'Male' 'Female'\n",
      " 'Male' 'Female' 'Female' 'Female' 'Female' 'Male' 'Female' 'Female'\n",
      " 'Female' 'Male' 'Female' 'Male' 'Female' 'Male' 'Male' 'Female' 'Male'\n",
      " 'Female' 'Female' 'Female' 'Male' 'Male' 'Female' 'Female' 'Male'\n",
      " 'Female' 'Female' 'Female' 'Male' 'Male' 'Male' 'Female' 'Female'\n",
      " 'Female' 'Male' 'Female' 'Female' 'Female' 'Female' 'Male' 'Male'\n",
      " 'Female' 'Male' 'Male' 'Female' 'Female' 'Male' 'Female' 'Male' 'Female'\n",
      " 'Male' 'Female' 'Male' 'Male' 'Male' 'Female' 'Male' 'Male' 'Female'\n",
      " 'Female' 'Male' 'Male' 'Female' 'Female' 'Female' 'Female' 'Female'\n",
      " 'Male' 'Female' 'Male' 'Male' 'Male' 'Female' 'Male' 'Male' 'Female'\n",
      " 'Male' 'Male' 'Female' 'Male' 'Male' 'Male' 'Female' 'Female' 'Female'\n",
      " 'Male' 'Male' 'Female' 'Male' 'Male' 'Female' 'Female' 'Male' 'Male'\n",
      " 'Male' 'Female' 'Female' 'Female' 'Female' 'Male' 'Female' 'Female'\n",
      " 'Female' 'Female' 'Female' 'Male' 'Male' 'Female' 'Male' 'Female'\n",
      " 'Female' 'Male' 'Male' 'Female' 'Female' 'Female' 'Male' 'Female'\n",
      " 'Female' 'Female' 'Male' 'Female' 'Female' 'Male' 'Female' 'Female'\n",
      " 'Male' 'Female' 'Male' 'Male' 'Female' 'Female' 'Female' 'Female' 'Male'\n",
      " 'Female' 'Male' 'Female' 'Female' 'Female' 'Male' 'Female' 'Female'\n",
      " 'Female' 'Female' 'Male' 'Female' 'Male' 'Male' 'Male' 'Male' 'Male'\n",
      " 'Male' 'Female' 'Male' 'Male' 'Male' 'Female' 'Female' 'Male' 'Female'\n",
      " 'Male' 'Male' 'Female' 'Male' 'Female' 'Female' 'Male' 'Male' 'Female'\n",
      " 'Male' 'Male' 'Male' 'Female' 'Female' 'Male' 'Female' 'Female' 'Female'\n",
      " 'Female' 'Female' 'Male' 'Male' 'Male' 'Female' 'Female' 'Male' 'Female'\n",
      " 'Male' 'Male' 'Male' 'Female' 'Female' 'Male' 'Male' 'Male' 'Male'\n",
      " 'Female' 'Female' 'Male' 'Male' 'Female' 'Female' 'Male' 'Male' 'Male'\n",
      " 'Female' 'Female' 'Female' 'Male' 'Male' 'Female' 'Female' 'Male'\n",
      " 'Female' 'Female' 'Male' 'Female' 'Male' 'Male' 'Male' 'Male' 'Male'\n",
      " 'Male' 'Male' 'Female' 'Male' 'Male' 'Female' 'Female' 'Female' 'Male'\n",
      " 'Female' 'Male' 'Male' 'Male' 'Male' 'Female' 'Female' 'Male' 'Male'\n",
      " 'Male' 'Female' 'Male' 'Male' 'Female' 'Female' 'Male' 'Female' 'Female'\n",
      " 'Male' 'Female' 'Male' 'Female' 'Male' 'Male' 'Male' 'Female' 'Male'\n",
      " 'Female' 'Male' 'Male' 'Female' 'Male' 'Male' 'Female' 'Male' 'Male'\n",
      " 'Male' 'Male' 'Female' 'Female' 'Male' 'Female' 'Male' 'Female' 'Male'\n",
      " 'Male' 'Male' 'Male' 'Male' 'Male' 'Female' 'Male' 'Female' 'Male'\n",
      " 'Female' 'Female' 'Female' 'Male' 'Male' 'Female' 'Male' 'Female' 'Male'\n",
      " 'Female' 'Female' 'Male' 'Female' 'Male' 'Female' 'Female' 'Male' 'Male'\n",
      " 'Male' 'Female' 'Male' 'Female' 'Female' 'Male' 'Male' 'Female' 'Female'\n",
      " 'Male' 'Male' 'Male' 'Male' 'Male' 'Female' 'Female' 'Female' 'Female'\n",
      " 'Male' 'Male' 'Male' 'Female' 'Female' 'Male' 'Male' 'Female' 'Female'\n",
      " 'Male' 'Male' 'Female' 'Male' 'Male' 'Male' 'Female' 'Female' 'Female'\n",
      " 'Female' 'Female' 'Female' 'Female' 'Male' 'Male' 'Male' 'Male' 'Male'\n",
      " 'Male' 'Male' 'Female' 'Female' 'Male' 'Male' 'Female' 'Male' 'Male'\n",
      " 'Female' 'Male' 'Female' 'Male' 'Female' 'Female' 'Female' 'Male'\n",
      " 'Female' 'Male' 'Male' 'Male' 'Male' 'Female' 'Female' 'Male' 'Male'\n",
      " 'Female' 'Male' 'Female' 'Male' 'Male' 'Female' 'Male' 'Female' 'Male'\n",
      " 'Male' 'Male' 'Female' 'Male' 'Male' 'Male' 'Male' 'Female' 'Female'\n",
      " 'Male' 'Female' 'Male' 'Male' 'Male' 'Female' 'Female' 'Female' 'Female'\n",
      " 'Female' 'Female' 'Female' 'Female' 'Female' 'Male' 'Female' 'Female'\n",
      " 'Female' 'Female' 'Female' 'Female' 'Female' 'Female' 'Female' 'Female'\n",
      " 'Female' 'Male' 'Male' 'Female' 'Female' 'Male']\n"
     ]
    }
   ],
   "source": [
    "# se extraen los generos en un array\n",
    "genres = data_filtered[:,0]\n",
    "# verificamos que es un array\n",
    "print(type(genres))\n",
    "# se imprime el resultado\n",
    "print(genres)"
   ]
  },
  {
   "cell_type": "code",
   "execution_count": 17,
   "metadata": {},
   "outputs": [
    {
     "name": "stdout",
     "output_type": "stream",
     "text": [
      "[ 150.   30.  500.  100.   50.  100.  600.  100.   75. 1500.  120. 1500.\n",
      "  900.  100. 1200.   90.  900.  200.  120.   50.   50.  900.  900.   75.\n",
      "  100.  120. 1200.   50.  150.  200.  100.   50.  100. 2000.  300.   90.\n",
      "  200.  300.   50.  100.  150.   90.  500.   30.  600.  900. 1500. 1500.\n",
      " 1000.   50.  120. 2000.  100.  500.  200.  900.   50.   50.  600. 1000.\n",
      "  200. 2000.   30. 1200.  200.  300.   60.   75.   50. 2000. 1000.  900.\n",
      " 2000. 2000.  200. 1000.   60. 2000.  300. 1500.   50.  120.  100.   60.\n",
      "  300.  900. 1200.  120.  200.   25.  200.   75.   50.   25.  100. 1500.\n",
      "  200.   30. 1500.  150.   25. 1000.   25.   25.  200. 1500. 1500. 1500.\n",
      "   60. 1500.  100.   90.  500.  600.  120.  100.   90.   25. 1500.   25.\n",
      "  100.   90.   60.  900.   50.   50.  300.  500.   30. 1000. 2000.   60.\n",
      "   50.   60.  900.  900. 2000.  300. 1000.  100.  500.  200.   50.  100.\n",
      "  120.   60.  600. 1200.   90. 1200. 1000.  120.  600.   90.   50.  120.\n",
      "  120.   60.   90.   25.  500.  500.  150.  100.   90. 1200.  900.  500.\n",
      "  100.  200.   50.   30. 1000.   25.   75. 1000.  500. 1500.   50.  100.\n",
      "   25.   25.  300.  100. 1500.   60.   50.  300.  600.  500. 1500.   30.\n",
      "   25.   50.  100.   50.  600. 1000.  200.  600. 1000.  200.  100.   60.\n",
      " 2000.  900. 1200.  150.   25.   50. 1200.  200.   75.  600. 1200.  600.\n",
      "   50. 2000.  200.  100.   60. 1200.   50. 1200.  600.  100.   25.   75.\n",
      "  150.   50.   75.  120. 1200.   30.   30. 2000.   30.  150.  100.   50.\n",
      "   60.  600.  120.   60.   60.  150. 2000.   50. 1500.  600.  100.  100.\n",
      "  100. 1500. 1200.  100.   50.  500. 1500. 1000.   90.  150.  500.  500.\n",
      "  600.   50. 2000.  900.  900. 1200.  300.   50.   60.  100.  200.  500.\n",
      " 2000.   60.  100. 2000.  900.   50.   60.  900.  100.   60. 1200.  120.\n",
      "   30. 1000.   50.   75. 1500.  100.   30.  100.   75.  150.  300.   50.\n",
      "   50.  100.   90.  120. 2000.  600.  500.   75.   90. 1500. 1200.   30.\n",
      "  150.   75.   75.   90.   25.   25. 1000. 1200.   50.  150. 1200.   30.\n",
      "  150. 1500. 1200. 1000.   50.  100.  100. 1500.  500. 2000.  100.   50.\n",
      "  100. 1500.   75.  500.  900.  150.  300. 1200.  900.  150. 1200. 2000.\n",
      " 1000.   30.  100.  100.   25.  300.   25.  100.   30.  150.   30.  100.\n",
      "  100.  100.  500.   50.  200.  900.   75.   50.   50.   30. 2000.   90.\n",
      "  150.   50.  500.  900.  100.   25.   25.   30.  300.  120.   75.   50.\n",
      "  100. 1200.  200.  100.   30. 2000.  100.   50.   75.  150. 1000.  200.\n",
      "  500.  200.  300.  120.  900.   90.  100. 2000.  200.  200.   90.  600.\n",
      "   50.  100. 1500.  150.  500.   50.   50.   50. 1000.   50.   25.  120.\n",
      "   50.  100.  200. 1200.   50.  500. 1500.   60.   30.  120.   30. 1000.\n",
      "  300.  500.  900.  100.   50.  900.   50.   50.   30.  600.   60.   30.\n",
      "  500.  300. 1200.  300.  900.  150.   90.   75.   50.  900.  100.  300.\n",
      "   30. 2000.  200.  120.   30.  500.  200.  200. 1500.   50.   25. 2000.\n",
      "  300.  900.  100.   90.   25. 1500.   50.   60.  200.   60.  900.  200.\n",
      " 1000.   25. 2000.  100.   50.   30.  500.   50.   90.  120.]\n"
     ]
    }
   ],
   "source": [
    "# mostrar las ventas por genero masculino\n",
    "male = sales[genres == 'Male']\n",
    "print(male)"
   ]
  },
  {
   "cell_type": "code",
   "execution_count": 18,
   "metadata": {},
   "outputs": [
    {
     "name": "stdout",
     "output_type": "stream",
     "text": [
      "[1000.   30.  200. 2000.  100.   50.   50.  500.  120.  300.   50. 1000.\n",
      "   50.  500.   30.  900.  100.  150.  900.   75.  300.   25.   30. 1200.\n",
      " 1500. 1000.   75.  300. 1500.  900.   30.   30. 1200.   75.  300.  100.\n",
      " 2000. 2000.  100.  100. 1500.   60.  200.   90.  100. 2000.   30.  500.\n",
      "  120. 2000. 1000.   60.  600. 1000.  100. 1200.   50.   25. 1000.  500.\n",
      "   50. 1200.   75. 2000. 1500.   50.  100.   30. 2000.  150.  200.   60.\n",
      "   90.   50.  600.  500.  600.   50.   50. 1500.   75.  120.  100.  600.\n",
      "  100.  150. 1500. 1200.  150.   50.  900.  300.  100.  100.  900.  100.\n",
      "   90.  900.  200.  900. 1200.   25.   50.  200.  200.  200.   90.   25.\n",
      "   50.  100.   50.   60.  150.   25.  600.   50. 1000.   25. 1000.  500.\n",
      "  300.   75.  900.   50.  200. 2000.   50.  200.  120.   60.   90.   30.\n",
      "  120.  100.   50. 1000.  100.  100. 1500. 2000.  200.  500.   25.  600.\n",
      "   90.  900. 1200. 1000.  200.   60.   30.   50. 1200.   25.   25.  100.\n",
      " 1500.   50. 1200.   50.  900.  150.   50.   75.  100.  200. 1200.  120.\n",
      "  150.   50. 1200. 2000.   30.  600.   50.   90.  200.  500.   75.  300.\n",
      " 1200.  500.   50. 1200.   25. 1500.  600.   75.   30.  200.   25.  100.\n",
      " 1000.   90.  600. 1000.  500.   30.   25.  600.   60.  300.  600. 1200.\n",
      "  100.  900.  500.  900.  100. 2000.   75. 1000.   90. 2000. 1500.   90.\n",
      "   25.  120.  200.  900. 1000.   50.  900.  120. 1200.   30.  100.   90.\n",
      "  300.   60.   50.   30. 1500. 1000.   25.  900.  100. 1000. 1500.  150.\n",
      "  150. 1000.  900. 1500. 2000.   60. 2000. 1200. 1200. 1200.   25.  900.\n",
      "  900.  200.  100.  100.  150. 1500.  900.  200.   25.  300.  900.  100.\n",
      "   30.  120.  100.  120.  300.   50.   60.  150.  120.  120.  120.  500.\n",
      "  900.   50.   25.  200.   60.  100.   75.  150.   50.   90.   25. 1200.\n",
      "   50. 2000.   60.   30.  900.  300.   50.   50.  150.  120.   30. 1500.\n",
      "   60.  100.  200.   25. 1200. 1000. 2000.  600. 2000.  300.  100. 1000.\n",
      "  300.   90.  200. 1500.  100.  600.  500.   90. 1200.  100.   50. 1000.\n",
      "   75.  900. 2000.  200.  100.  900. 1500.  200.  120.  300.  100.   90.\n",
      "  120.  600.  100.  500.   30. 1000.  100. 2000.  500.  150.  100. 1500.\n",
      "  300.   60. 1500.  900.   90.  900.   60. 1000.  200.  300.  900.   90.\n",
      "  100.   50.  150.  200.  300.  120.   60.  600.   90.  500.  900. 1000.\n",
      " 1500.   50.  500.  100. 1200.   75.   60. 1500.  500.  200.   50.   30.\n",
      " 2000.   50.  200. 2000. 2000.   90.   75.   50.   30.  100.   75. 1200.\n",
      " 1200.  500.   50.   25.   75.  120.   50.  100.  100. 1000.  300.  500.\n",
      "  200.  900. 2000.   25.   50.  300.   30. 1500.  900.  200.  100.  500.\n",
      "   75.  100.  150.  100.   25.  300. 1200.  150.   60.   50. 1200.  600.\n",
      " 1200.   75. 1000.  300. 1500.   90.   50.  500.  300.  300.  120.   75.\n",
      "  100. 2000.   25.   30.   50.   60.  120.  100.   50.  120.   50.  100.\n",
      "   90.   50.  200.   50.   25.  150.  500.   90.   50.  200.   90.   50.\n",
      "   75. 1200.   75.  100.   50.  500.  300.   30.   50. 1200.   75.   50.\n",
      "   25.  900.  120.   60.   50.  900.  900.  200.  200.  600.   75.  150.\n",
      "   25.   75.   60.   90.  300.   50. 1000.  900.   75.   25. 1000.  100.\n",
      "   60.  150. 1000.   30.  100.  150.]\n"
     ]
    }
   ],
   "source": [
    "# mostrar las ventas por genero femenino\n",
    "female = sales[genres == 'Female']\n",
    "print(female)"
   ]
  },
  {
   "cell_type": "code",
   "execution_count": 19,
   "metadata": {},
   "outputs": [
    {
     "name": "stdout",
     "output_type": "stream",
     "text": [
      "Total de ventas por género femenino: 232840.0\n",
      "Total de ventas por género masculino: 223160.0\n"
     ]
    }
   ],
   "source": [
    "# total de ventas por genero\n",
    "def sales_by_genre(sales,genres):\n",
    "    sales_female = np.sum(sales[genres == 'Female'])\n",
    "    sales_male = np.sum(sales[genres == 'Male'])\n",
    "    return(sales_female,sales_male)\n",
    "\n",
    "sales_female,sales_male = sales_by_genre(sales,genres)\n",
    "\n",
    "print('Total de ventas por género femenino:', sales_female)\n",
    "print('Total de ventas por género masculino:', sales_male)\n"
   ]
  },
  {
   "cell_type": "markdown",
   "metadata": {},
   "source": [
    "### **Ejercicio 6:** Estadisticas adicionales"
   ]
  },
  {
   "cell_type": "code",
   "execution_count": 20,
   "metadata": {},
   "outputs": [
    {
     "name": "stdout",
     "output_type": "stream",
     "text": [
      "[34. 26. 50. 37. 30. 45. 46. 30. 63. 52. 23. 35. 22. 64. 42. 19. 27. 47.\n",
      " 62. 22. 50. 18. 35. 49. 64. 28. 38. 43. 42. 39. 44. 30. 50. 51. 58. 52.\n",
      " 18. 38. 23. 45. 34. 22. 48. 22. 55. 20. 40. 54. 54. 27. 27. 36. 34. 38.\n",
      " 31. 26. 63. 18. 62. 30. 21. 18. 57. 49. 51. 45. 48. 25. 56. 43. 51. 20.\n",
      " 29. 18. 61. 22. 47. 47. 34. 64. 40. 32. 54. 38. 31. 19. 28. 56. 55. 51.\n",
      " 55. 51. 35. 47. 32. 44. 51. 55. 50. 41. 32. 47. 59. 34. 22. 46. 21. 27.\n",
      " 34. 27. 34. 37. 41. 22. 51. 23. 19. 30. 60. 60. 28. 64. 40. 33. 48. 28.\n",
      " 33. 25. 21. 57. 21. 42. 20. 49. 20. 44. 46. 49. 36. 38. 22. 35. 45. 59.\n",
      " 39. 38. 23. 18. 22. 58. 29. 43. 63. 51. 31. 43. 62. 44. 26. 43. 64. 39.\n",
      " 64. 47. 60. 34. 43. 53. 18. 25. 52. 32. 64. 39. 31. 43. 45. 40. 31. 41.\n",
      " 19. 62. 43. 31. 24. 20. 64. 40. 63. 60. 64. 62. 35. 55. 52. 32. 42. 54.\n",
      " 45. 27. 56. 34. 56. 39. 43. 61. 42. 34. 30. 37. 42. 21. 27. 20. 58. 62.\n",
      " 35. 64. 53. 64. 39. 51. 64. 25. 57. 61. 36. 59. 58. 54. 23. 43. 51. 62.\n",
      " 23. 54. 50. 39. 38. 23. 23. 21. 47. 28. 47. 48. 41. 26. 20. 48. 57. 54.\n",
      " 53. 41. 48. 23. 19. 37. 45. 28. 21. 32. 23. 47. 55. 19. 32. 28. 25. 43.\n",
      " 62. 61. 22. 23. 43. 21. 36. 37. 50. 37. 29. 64. 18. 43. 31. 55. 54. 28.\n",
      " 53. 30. 60. 20. 50. 23. 27. 22. 40. 27. 61. 19. 30. 57. 19. 37. 18. 54.\n",
      " 26. 34. 26. 28. 32. 41. 55. 52. 47. 48. 22. 61. 31. 28. 26. 51. 29. 52.\n",
      " 52. 18. 57. 39. 46. 25. 28. 58. 54. 31. 47. 52. 38. 54. 22. 36. 31. 43.\n",
      " 21. 42. 62. 59. 42. 35. 57. 25. 56. 57. 31. 49. 55. 50. 40. 32. 50. 42.\n",
      " 34. 50. 64. 19. 31. 57. 57. 56. 23. 23. 20. 24. 25. 59. 32. 64. 46. 50.\n",
      " 47. 56. 44. 53. 46. 55. 50. 54. 44. 50. 21. 39. 19. 27. 22. 27. 50. 55.\n",
      " 30. 48. 64. 53. 62. 41. 32. 46. 25. 22. 46. 64. 21. 29. 62. 19. 44. 48.\n",
      " 53. 53. 43. 60. 44. 22. 37. 28. 27. 57. 55. 23. 25. 40. 64. 43. 63. 60.\n",
      " 29. 43. 30. 57. 35. 42. 50. 64. 57. 60. 29. 61. 53. 21. 22. 54. 25. 59.\n",
      " 45. 48. 26. 46. 31. 57. 58. 39. 28. 40. 18. 63. 54. 38. 43. 63. 53. 40.\n",
      " 18. 57. 32. 38. 64. 26. 26. 27. 43. 58. 52. 42. 43. 28. 55. 19. 24. 35.\n",
      " 44. 51. 44. 34. 60. 61. 41. 42. 24. 23. 41. 50. 46. 60. 39. 43. 45. 38.\n",
      " 24. 34. 37. 58. 37. 39. 45. 57. 24. 18. 49. 30. 47. 40. 36. 49. 47. 46.\n",
      " 62. 46. 47. 33. 57. 36. 35. 18. 31. 64. 19. 45. 47. 55. 21. 18. 25. 46.\n",
      " 56. 20. 49. 27. 27. 36. 63. 51. 50. 40. 45. 49. 24. 46. 25. 18. 20. 41.\n",
      " 40. 25. 64. 54. 20. 50. 45. 64. 25. 51. 52. 49. 41. 31. 49. 63. 60. 33.\n",
      " 21. 54. 38. 31. 48. 35. 24. 27. 24. 50. 40. 38. 36. 36. 53. 46. 35. 19.\n",
      " 18. 64. 22. 37. 28. 59. 19. 20. 40. 29. 37. 22. 54. 55. 47. 26. 51. 61.\n",
      " 52. 39. 61. 41. 34. 27. 47. 63. 40. 49. 34. 34. 31. 26. 57. 19. 62. 42.\n",
      " 56. 26. 39. 60. 63. 21. 43. 46. 62. 51. 40. 54. 28. 23. 35. 38. 59. 53.\n",
      " 58. 55. 51. 34. 54. 42. 55. 29. 40. 59. 39. 38. 44. 48. 23. 44. 57. 51.\n",
      " 29. 62. 24. 27. 62. 34. 43. 38. 45. 63. 19. 60. 18. 53. 43. 46. 38. 28.\n",
      " 57. 28. 53. 56. 57. 52. 51. 64. 41. 39. 22. 50. 53. 64. 37. 36. 52. 60.\n",
      " 34. 62. 60. 51. 26. 43. 19. 26. 26. 57. 34. 18. 42. 60. 57. 59. 42. 56.\n",
      " 52. 20. 54. 61. 61. 47. 55. 51. 29. 36. 54. 61. 34. 27. 64. 29. 33. 41.\n",
      " 36. 25. 48. 38. 34. 40. 54. 33. 23. 25. 42. 35. 42. 29. 32. 43. 58. 62.\n",
      " 43. 64. 49. 27. 33. 24. 34. 40. 43. 38. 39. 24. 31. 32. 24. 26. 25. 40.\n",
      " 46. 35. 48. 47. 56. 52. 35. 59. 56. 34. 31. 48. 41. 52. 61. 62. 51. 20.\n",
      " 54. 60. 57. 43. 40. 61. 56. 32. 21. 46. 39. 42. 30. 35. 50. 33. 62. 59.\n",
      " 61. 19. 52. 59. 51. 47. 30. 30. 35. 49. 49. 52. 56. 63. 46. 46. 61. 33.\n",
      " 61. 64. 27. 47. 42. 56. 37. 22. 18. 47. 20. 62. 31. 47. 21. 35. 54. 42.\n",
      " 18. 63. 32. 26. 32. 41. 21. 29. 54. 54. 60. 23. 56. 63. 41. 28. 30. 51.\n",
      " 42. 24. 21. 25. 37. 46. 62. 63. 27. 60. 51. 43. 58. 20. 23. 22. 22. 64.\n",
      " 40. 26. 52. 37. 59. 52. 35. 34. 41. 20. 49. 52. 55. 30. 64. 42. 26. 21.\n",
      " 31. 54. 51. 28. 58. 20. 45. 46. 26. 20. 42. 51. 29. 59. 26. 32. 57. 42.\n",
      " 22. 28. 51. 41. 32. 55. 25. 22. 43. 35. 23. 54. 30. 45. 22. 30. 34. 57.\n",
      " 62. 49. 46. 20. 57. 51. 57. 44. 30. 62. 50. 23. 41. 36. 33. 57. 45. 50.\n",
      " 58. 30. 60. 62. 42. 59. 53. 44. 55. 24. 22. 60. 62. 48. 40. 59. 27. 49.\n",
      " 60. 47. 56. 48. 35. 53. 19. 31. 30. 46. 29. 56. 19. 49. 30. 63. 44. 58.\n",
      " 34. 57. 48. 51. 41. 62. 52. 23. 36. 47.]\n"
     ]
    }
   ],
   "source": [
    "# identificar el promedio de edad de compradores\n",
    "ages = data_filtered[:,1]\n",
    "# recordar que era tipo string y convertir a float\n",
    "ages = ages.astype(float)\n",
    "print(ages)\n"
   ]
  },
  {
   "cell_type": "code",
   "execution_count": 21,
   "metadata": {},
   "outputs": [
    {
     "name": "stdout",
     "output_type": "stream",
     "text": [
      "El promedio de edad de los compradores es:  41.392\n"
     ]
    }
   ],
   "source": [
    "# se calcula el promedio de edad de compradores\n",
    "buyers_mean_age = np.mean(ages)\n",
    "print(\"El promedio de edad de los compradores es: \", buyers_mean_age)"
   ]
  },
  {
   "cell_type": "code",
   "execution_count": 22,
   "metadata": {},
   "outputs": [
    {
     "name": "stdout",
     "output_type": "stream",
     "text": [
      "La desviacion estandar respecto a la media de compradores es:  13.674587233258633\n"
     ]
    }
   ],
   "source": [
    "# la desviacion estandar respecto a la edad de los compradores\n",
    "st_buyers = np.std(ages)\n",
    "print(\"La desviacion estandar respecto a la media de compradores es: \", st_buyers)"
   ]
  },
  {
   "cell_type": "code",
   "execution_count": 23,
   "metadata": {},
   "outputs": [
    {
     "name": "stdout",
     "output_type": "stream",
     "text": [
      "La edad minima de los compradores es de:  18.0\n"
     ]
    }
   ],
   "source": [
    "# la edad minima de los compradores\n",
    "min_age = np.min(ages)\n",
    "print(\"La edad minima de los compradores es de: \", min_age)"
   ]
  },
  {
   "cell_type": "code",
   "execution_count": 24,
   "metadata": {},
   "outputs": [
    {
     "name": "stdout",
     "output_type": "stream",
     "text": [
      "La edad maxima de los compradores es de:  64.0\n"
     ]
    }
   ],
   "source": [
    "# la edad maxima de los compradores\n",
    "max_age = np.max(ages)\n",
    "print(\"La edad maxima de los compradores es de: \", max_age)"
   ]
  }
 ],
 "metadata": {
  "kernelspec": {
   "display_name": "datascience",
   "language": "python",
   "name": "python3"
  },
  "language_info": {
   "codemirror_mode": {
    "name": "ipython",
    "version": 3
   },
   "file_extension": ".py",
   "mimetype": "text/x-python",
   "name": "python",
   "nbconvert_exporter": "python",
   "pygments_lexer": "ipython3",
   "version": "3.12.3"
  }
 },
 "nbformat": 4,
 "nbformat_minor": 2
}
