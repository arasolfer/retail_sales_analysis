{
 "cells": [
  {
   "cell_type": "markdown",
   "metadata": {},
   "source": [
    "## Análisis de datos de retail utilizando pandas\n",
    "\n",
    "En el siguiente notebook se analiza el dataset retail-sales de Kaggle, que contiene datos de ventas por categorias de tiendas en el periodo 2023 a 2024"
   ]
  },
  {
   "cell_type": "code",
   "execution_count": 87,
   "metadata": {},
   "outputs": [],
   "source": [
    "# importar librerias necesarias\n",
    "import pandas as pd\n",
    "import numpy as np"
   ]
  },
  {
   "cell_type": "code",
   "execution_count": 60,
   "metadata": {},
   "outputs": [
    {
     "name": "stdout",
     "output_type": "stream",
     "text": [
      "   Transaction ID        Date Customer ID  Gender  Age Product Category  \\\n",
      "0               1  2023-11-24     CUST001    Male   34           Beauty   \n",
      "1               2  2023-02-27     CUST002  Female   26         Clothing   \n",
      "2               3  2023-01-13     CUST003    Male   50      Electronics   \n",
      "3               4  2023-05-21     CUST004    Male   37         Clothing   \n",
      "4               5  2023-05-06     CUST005    Male   30           Beauty   \n",
      "5               6  2023-04-25     CUST006  Female   45           Beauty   \n",
      "6               7  2023-03-13     CUST007    Male   46         Clothing   \n",
      "7               8  2023-02-22     CUST008    Male   30      Electronics   \n",
      "8               9  2023-12-13     CUST009    Male   63      Electronics   \n",
      "9              10  2023-10-07     CUST010  Female   52         Clothing   \n",
      "\n",
      "   Quantity  Price per Unit  Total Amount  \n",
      "0         3              50           150  \n",
      "1         2             500          1000  \n",
      "2         1              30            30  \n",
      "3         1             500           500  \n",
      "4         2              50           100  \n",
      "5         1              30            30  \n",
      "6         2              25            50  \n",
      "7         4              25           100  \n",
      "8         2             300           600  \n",
      "9         4              50           200  \n"
     ]
    }
   ],
   "source": [
    "# importacion de los datos y conversion a dataframe\n",
    "retail_sales = pd.read_csv('../data/retail_sales.csv')\n",
    "print(retail_sales.head(10))"
   ]
  },
  {
   "cell_type": "markdown",
   "metadata": {},
   "source": [
    "### **Exploración inicial de los datos**"
   ]
  },
  {
   "cell_type": "code",
   "execution_count": 61,
   "metadata": {},
   "outputs": [
    {
     "name": "stdout",
     "output_type": "stream",
     "text": [
      "     Transaction ID        Date Customer ID  Gender  Age Product Category  \\\n",
      "995             996  2023-05-16     CUST996    Male   62         Clothing   \n",
      "996             997  2023-11-17     CUST997    Male   52           Beauty   \n",
      "997             998  2023-10-29     CUST998  Female   23           Beauty   \n",
      "998             999  2023-12-05     CUST999  Female   36      Electronics   \n",
      "999            1000  2023-04-12    CUST1000    Male   47      Electronics   \n",
      "\n",
      "     Quantity  Price per Unit  Total Amount  \n",
      "995         1              50            50  \n",
      "996         3              30            90  \n",
      "997         4              25           100  \n",
      "998         3              50           150  \n",
      "999         4              30           120  \n"
     ]
    }
   ],
   "source": [
    "# visualizacion de las ultimas 5 filas del dataframe\n",
    "print(retail_sales.tail(5))"
   ]
  },
  {
   "cell_type": "code",
   "execution_count": 62,
   "metadata": {},
   "outputs": [
    {
     "name": "stdout",
     "output_type": "stream",
     "text": [
      "<class 'pandas.core.frame.DataFrame'>\n",
      "RangeIndex: 1000 entries, 0 to 999\n",
      "Data columns (total 9 columns):\n",
      " #   Column            Non-Null Count  Dtype \n",
      "---  ------            --------------  ----- \n",
      " 0   Transaction ID    1000 non-null   int64 \n",
      " 1   Date              1000 non-null   object\n",
      " 2   Customer ID       1000 non-null   object\n",
      " 3   Gender            1000 non-null   object\n",
      " 4   Age               1000 non-null   int64 \n",
      " 5   Product Category  1000 non-null   object\n",
      " 6   Quantity          1000 non-null   int64 \n",
      " 7   Price per Unit    1000 non-null   int64 \n",
      " 8   Total Amount      1000 non-null   int64 \n",
      "dtypes: int64(5), object(4)\n",
      "memory usage: 70.4+ KB\n",
      "None\n"
     ]
    }
   ],
   "source": [
    "# visualizar info general del dataframe\n",
    "print(retail_sales.info())"
   ]
  },
  {
   "cell_type": "code",
   "execution_count": 63,
   "metadata": {},
   "outputs": [
    {
     "name": "stdout",
     "output_type": "stream",
     "text": [
      "Estadistica descriptiva del dataset\n",
      "       Transaction ID         Age     Quantity  Price per Unit  Total Amount\n",
      "count     1000.000000  1000.00000  1000.000000     1000.000000   1000.000000\n",
      "mean       500.500000    41.39200     2.514000      179.890000    456.000000\n",
      "std        288.819436    13.68143     1.132734      189.681356    559.997632\n",
      "min          1.000000    18.00000     1.000000       25.000000     25.000000\n",
      "25%        250.750000    29.00000     1.000000       30.000000     60.000000\n",
      "50%        500.500000    42.00000     3.000000       50.000000    135.000000\n",
      "75%        750.250000    53.00000     4.000000      300.000000    900.000000\n",
      "max       1000.000000    64.00000     4.000000      500.000000   2000.000000\n"
     ]
    }
   ],
   "source": [
    "# datos de estadisticos del dataframe\n",
    "print(\"Estadistica descriptiva del dataset\")\n",
    "print(retail_sales.describe())"
   ]
  },
  {
   "cell_type": "code",
   "execution_count": 64,
   "metadata": {},
   "outputs": [
    {
     "name": "stdout",
     "output_type": "stream",
     "text": [
      "Transaction ID       int64\n",
      "Date                object\n",
      "Customer ID         object\n",
      "Gender              object\n",
      "Age                  int64\n",
      "Product Category    object\n",
      "Quantity             int64\n",
      "Price per Unit       int64\n",
      "Total Amount         int64\n",
      "dtype: object\n"
     ]
    }
   ],
   "source": [
    "# descripcion de los tipos de datos en columnas\n",
    "print(retail_sales.dtypes)"
   ]
  },
  {
   "cell_type": "code",
   "execution_count": 65,
   "metadata": {},
   "outputs": [
    {
     "name": "stdout",
     "output_type": "stream",
     "text": [
      "Transaction ID               int64\n",
      "Date                string[python]\n",
      "Customer ID         string[python]\n",
      "Gender              string[python]\n",
      "Age                          int64\n",
      "Product Category    string[python]\n",
      "Quantity                     int64\n",
      "Price per Unit               int64\n",
      "Total Amount                 int64\n",
      "dtype: object\n"
     ]
    }
   ],
   "source": [
    "# convertir las columnas con datos objeto a string\n",
    "retail_sales = retail_sales.astype({col: 'string' for col in retail_sales.select_dtypes(include='object').columns})\n",
    "print(retail_sales.dtypes)"
   ]
  },
  {
   "cell_type": "code",
   "execution_count": 66,
   "metadata": {},
   "outputs": [
    {
     "name": "stdout",
     "output_type": "stream",
     "text": [
      "Product Category\n",
      "Clothing       351\n",
      "Electronics    342\n",
      "Beauty         307\n",
      "Name: count, dtype: Int64\n"
     ]
    }
   ],
   "source": [
    "# identificando los valores unicos en la columna producto\n",
    "print(retail_sales['Product Category'].value_counts())"
   ]
  },
  {
   "cell_type": "code",
   "execution_count": 67,
   "metadata": {},
   "outputs": [
    {
     "name": "stdout",
     "output_type": "stream",
     "text": [
      "     Transaction ID        Date Customer ID  Gender  Age Product Category  \\\n",
      "0                 1  2023-11-24     CUST001    Male   34           Beauty   \n",
      "1                 2  2023-02-27     CUST002  Female   26         Clothing   \n",
      "3                 4  2023-05-21     CUST004    Male   37         Clothing   \n",
      "4                 5  2023-05-06     CUST005    Male   30           Beauty   \n",
      "7                 8  2023-02-22     CUST008    Male   30      Electronics   \n",
      "..              ...         ...         ...     ...  ...              ...   \n",
      "993             994  2023-12-18     CUST994  Female   51           Beauty   \n",
      "996             997  2023-11-17     CUST997    Male   52           Beauty   \n",
      "997             998  2023-10-29     CUST998  Female   23           Beauty   \n",
      "998             999  2023-12-05     CUST999  Female   36      Electronics   \n",
      "999            1000  2023-04-12    CUST1000    Male   47      Electronics   \n",
      "\n",
      "     Quantity  Price per Unit  Total Amount  \n",
      "0           3              50           150  \n",
      "1           2             500          1000  \n",
      "3           1             500           500  \n",
      "4           2              50           100  \n",
      "7           4              25           100  \n",
      "..        ...             ...           ...  \n",
      "993         2             500          1000  \n",
      "996         3              30            90  \n",
      "997         4              25           100  \n",
      "998         3              50           150  \n",
      "999         4              30           120  \n",
      "\n",
      "[783 rows x 9 columns]\n"
     ]
    }
   ],
   "source": [
    "# mostrar solo donde las ventas sean superiores a 50\n",
    "print(retail_sales[retail_sales['Total Amount']>50])"
   ]
  },
  {
   "cell_type": "code",
   "execution_count": 68,
   "metadata": {},
   "outputs": [
    {
     "name": "stdout",
     "output_type": "stream",
     "text": [
      "     Transaction ID        Date Customer ID  Gender  Age Product Category  \\\n",
      "6                 7  2023-03-13     CUST007    Male   46         Clothing   \n",
      "7                 8  2023-02-22     CUST008    Male   30      Electronics   \n",
      "11               12  2023-10-30     CUST012    Male   35           Beauty   \n",
      "16               17  2023-04-22     CUST017  Female   27         Clothing   \n",
      "17               18  2023-04-30     CUST018  Female   47      Electronics   \n",
      "..              ...         ...         ...     ...  ...              ...   \n",
      "979             980  2023-07-29     CUST980  Female   31      Electronics   \n",
      "984             985  2023-05-30     CUST985  Female   19      Electronics   \n",
      "987             988  2023-05-28     CUST988  Female   63         Clothing   \n",
      "988             989  2023-12-28     CUST989  Female   44      Electronics   \n",
      "997             998  2023-10-29     CUST998  Female   23           Beauty   \n",
      "\n",
      "     Quantity  Price per Unit  Total Amount  \n",
      "6           2              25            50  \n",
      "7           4              25           100  \n",
      "11          3              25            75  \n",
      "16          4              25           100  \n",
      "17          2              25            50  \n",
      "..        ...             ...           ...  \n",
      "979         3              25            75  \n",
      "984         2              25            50  \n",
      "987         3              25            75  \n",
      "988         1              25            25  \n",
      "997         4              25           100  \n",
      "\n",
      "[210 rows x 9 columns]\n"
     ]
    }
   ],
   "source": [
    "# mostrar solo donde el precio sea menor a 30\n",
    "print(retail_sales[retail_sales['Price per Unit']<30])"
   ]
  },
  {
   "cell_type": "code",
   "execution_count": 69,
   "metadata": {},
   "outputs": [
    {
     "name": "stdout",
     "output_type": "stream",
     "text": [
      "     Transaction ID        Date Customer ID  Gender  Age Product Category  \\\n",
      "0                 1  2023-11-24     CUST001    Male   34           Beauty   \n",
      "4                 5  2023-05-06     CUST005    Male   30           Beauty   \n",
      "11               12  2023-10-30     CUST012    Male   35           Beauty   \n",
      "20               21  2023-01-14     CUST021  Female   50           Beauty   \n",
      "27               28  2023-04-23     CUST028  Female   43           Beauty   \n",
      "..              ...         ...         ...     ...  ...              ...   \n",
      "981             982  2023-12-19     CUST982  Female   46           Beauty   \n",
      "989             990  2023-05-25     CUST990  Female   58           Beauty   \n",
      "993             994  2023-12-18     CUST994  Female   51           Beauty   \n",
      "996             997  2023-11-17     CUST997    Male   52           Beauty   \n",
      "997             998  2023-10-29     CUST998  Female   23           Beauty   \n",
      "\n",
      "     Quantity  Price per Unit  Total Amount  \n",
      "0           3              50           150  \n",
      "4           2              50           100  \n",
      "11          3              25            75  \n",
      "20          1             500           500  \n",
      "27          1             500           500  \n",
      "..        ...             ...           ...  \n",
      "981         3              30            90  \n",
      "989         2             500          1000  \n",
      "993         2             500          1000  \n",
      "996         3              30            90  \n",
      "997         4              25           100  \n",
      "\n",
      "[246 rows x 9 columns]\n"
     ]
    }
   ],
   "source": [
    "# mostrar donde el producto sean beauty sean mayores a 50\n",
    "print(retail_sales.query('`Product Category` == \"Beauty\" & `Total Amount` > 50'))"
   ]
  },
  {
   "cell_type": "code",
   "execution_count": 70,
   "metadata": {},
   "outputs": [
    {
     "name": "stdout",
     "output_type": "stream",
     "text": [
      "    Product Category  Total Amount\n",
      "0             Beauty           150\n",
      "1           Clothing          1000\n",
      "2        Electronics            30\n",
      "3           Clothing           500\n",
      "4             Beauty           100\n",
      "..               ...           ...\n",
      "995         Clothing            50\n",
      "996           Beauty            90\n",
      "997           Beauty           100\n",
      "998      Electronics           150\n",
      "999      Electronics           120\n",
      "\n",
      "[1000 rows x 2 columns]\n"
     ]
    }
   ],
   "source": [
    "# mostrar solo las columnas Producto y Ventas del DataFrame\n",
    "print(retail_sales[['Product Category','Total Amount']])"
   ]
  },
  {
   "cell_type": "code",
   "execution_count": 71,
   "metadata": {},
   "outputs": [
    {
     "name": "stdout",
     "output_type": "stream",
     "text": [
      "   Product Category  Total Amount\n",
      "5            Beauty            30\n",
      "6          Clothing            50\n",
      "7       Electronics           100\n",
      "8       Electronics           600\n",
      "9          Clothing           200\n",
      "10         Clothing           100\n"
     ]
    }
   ],
   "source": [
    "# mostrar las filas de 5 a 10 (inclusive) y las columnas Producto y ventas.\n",
    "print(retail_sales.loc[5:10, ['Product Category', 'Total Amount']])"
   ]
  },
  {
   "cell_type": "code",
   "execution_count": 72,
   "metadata": {},
   "outputs": [
    {
     "name": "stdout",
     "output_type": "stream",
     "text": [
      "   Transaction ID        Date Customer ID\n",
      "0               1  2023-11-24     CUST001\n",
      "1               2  2023-02-27     CUST002\n",
      "2               3  2023-01-13     CUST003\n",
      "3               4  2023-05-21     CUST004\n",
      "4               5  2023-05-06     CUST005\n"
     ]
    }
   ],
   "source": [
    "# mostrar las primeras 5 filas y las primeras 3 columnas del DataFrame\n",
    "print(retail_sales.iloc[0:5,0:3])"
   ]
  },
  {
   "cell_type": "code",
   "execution_count": 74,
   "metadata": {},
   "outputs": [],
   "source": [
    "# agrupar datos por categoria\n",
    "retail_sales_grouped = retail_sales.groupby(\"Product Category\")"
   ]
  },
  {
   "cell_type": "code",
   "execution_count": 75,
   "metadata": {},
   "outputs": [
    {
     "name": "stdout",
     "output_type": "stream",
     "text": [
      "Product Category\n",
      "Beauty         143515\n",
      "Clothing       155580\n",
      "Electronics    156905\n",
      "Name: Total Amount, dtype: int64\n"
     ]
    }
   ],
   "source": [
    "# identificar el total de ventas por categoria\n",
    "sales_per_category = retail_sales_grouped['Total Amount'].sum()\n",
    "print(sales_per_category)"
   ]
  },
  {
   "cell_type": "code",
   "execution_count": 76,
   "metadata": {},
   "outputs": [
    {
     "name": "stdout",
     "output_type": "stream",
     "text": [
      "Product Category\n",
      "Beauty         467.475570\n",
      "Clothing       443.247863\n",
      "Electronics    458.786550\n",
      "Name: Total Amount, dtype: float64\n"
     ]
    }
   ],
   "source": [
    "# identificar el promedio de ventas por categoria\n",
    "mean_sales_per_category = retail_sales_grouped['Total Amount'].mean()\n",
    "print(mean_sales_per_category)"
   ]
  },
  {
   "cell_type": "code",
   "execution_count": 77,
   "metadata": {},
   "outputs": [
    {
     "name": "stdout",
     "output_type": "stream",
     "text": [
      "Product Category\n",
      "Beauty         307\n",
      "Clothing       351\n",
      "Electronics    342\n",
      "Name: Total Amount, dtype: int64\n"
     ]
    }
   ],
   "source": [
    "# identificar cantidad de ventas por categoria\n",
    "count_sales_per_category = retail_sales_grouped['Total Amount'].count()\n",
    "print(count_sales_per_category)"
   ]
  },
  {
   "cell_type": "code",
   "execution_count": 78,
   "metadata": {},
   "outputs": [],
   "source": [
    "# agrupar el dataset por producto y por genero\n",
    "retail_sales_double_grouped = retail_sales.groupby(['Product Category','Age'])"
   ]
  },
  {
   "cell_type": "code",
   "execution_count": 79,
   "metadata": {},
   "outputs": [
    {
     "name": "stdout",
     "output_type": "stream",
     "text": [
      "Product Category  Age\n",
      "Beauty            18     4960\n",
      "                  19     4365\n",
      "                  20     2525\n",
      "                  21     8000\n",
      "                  22     5530\n",
      "                         ... \n",
      "Electronics       60     7020\n",
      "                  61     2900\n",
      "                  62     6280\n",
      "                  63     6625\n",
      "                  64     1240\n",
      "Name: Total Amount, Length: 141, dtype: int64\n"
     ]
    }
   ],
   "source": [
    "# identificar el total de ventas por categoria y por edad\n",
    "sales_per_category_age = retail_sales_double_grouped['Total Amount'].sum()\n",
    "print(sales_per_category_age)"
   ]
  },
  {
   "cell_type": "code",
   "execution_count": 80,
   "metadata": {},
   "outputs": [
    {
     "name": "stdout",
     "output_type": "stream",
     "text": [
      "Product Category  Age\n",
      "Beauty            18     551.111111\n",
      "                  19     623.571429\n",
      "                  20     315.625000\n",
      "                  21     888.888889\n",
      "                  22     614.444444\n",
      "                            ...    \n",
      "Electronics       60     780.000000\n",
      "                  61     580.000000\n",
      "                  62     523.333333\n",
      "                  63     736.111111\n",
      "                  64     155.000000\n",
      "Name: Total Amount, Length: 141, dtype: float64\n"
     ]
    }
   ],
   "source": [
    "# identificar el promedio de ventas por categoria y edad\n",
    "mean_sales_per_category_age = retail_sales_double_grouped['Total Amount'].mean()\n",
    "print(mean_sales_per_category_age)"
   ]
  },
  {
   "cell_type": "code",
   "execution_count": 81,
   "metadata": {},
   "outputs": [],
   "source": [
    "# encontar los maximos y minimos de ventas\n",
    "max_sales = retail_sales['Total Amount'].max()\n",
    "min_sales = retail_sales['Total Amount'].min()"
   ]
  },
  {
   "cell_type": "code",
   "execution_count": 83,
   "metadata": {},
   "outputs": [
    {
     "name": "stdout",
     "output_type": "stream",
     "text": [
      "     Transaction ID        Date Customer ID  Gender  Age Product Category  \\\n",
      "0                 1  2023-11-24     CUST001    Male   34           Beauty   \n",
      "1                 2  2023-02-27     CUST002  Female   26         Clothing   \n",
      "2                 3  2023-01-13     CUST003    Male   50      Electronics   \n",
      "3                 4  2023-05-21     CUST004    Male   37         Clothing   \n",
      "4                 5  2023-05-06     CUST005    Male   30           Beauty   \n",
      "..              ...         ...         ...     ...  ...              ...   \n",
      "995             996  2023-05-16     CUST996    Male   62         Clothing   \n",
      "996             997  2023-11-17     CUST997    Male   52           Beauty   \n",
      "997             998  2023-10-29     CUST998  Female   23           Beauty   \n",
      "998             999  2023-12-05     CUST999  Female   36      Electronics   \n",
      "999            1000  2023-04-12    CUST1000    Male   47      Electronics   \n",
      "\n",
      "     Quantity  Price per Unit  Total Amount  Sales Normalized  \n",
      "0           3              50           150          0.063291  \n",
      "1           2             500          1000          0.493671  \n",
      "2           1              30            30          0.002532  \n",
      "3           1             500           500          0.240506  \n",
      "4           2              50           100          0.037975  \n",
      "..        ...             ...           ...               ...  \n",
      "995         1              50            50          0.012658  \n",
      "996         3              30            90          0.032911  \n",
      "997         4              25           100          0.037975  \n",
      "998         3              50           150          0.063291  \n",
      "999         4              30           120          0.048101  \n",
      "\n",
      "[1000 rows x 10 columns]\n"
     ]
    }
   ],
   "source": [
    "# duplicar el dataframe en otro para agregar columnas\n",
    "retail_sales_added = retail_sales\n",
    "# normalizar las ventas agregando una columna \n",
    "retail_sales_added['Sales Normalized'] = retail_sales_added['Total Amount'].apply(\n",
    "    lambda x: (x - min_sales)/(max_sales - min_sales)\n",
    ")\n",
    "print(retail_sales_added)"
   ]
  },
  {
   "cell_type": "code",
   "execution_count": 84,
   "metadata": {},
   "outputs": [],
   "source": [
    "# crear una funcion que clasifique las ventas \n",
    "def sales_level(sales):\n",
    "    if (sales >= 900):\n",
    "        return('alta')\n",
    "    elif (sales <= 30):\n",
    "        return('baja')\n",
    "    else:\n",
    "        return('media')"
   ]
  },
  {
   "cell_type": "code",
   "execution_count": 85,
   "metadata": {},
   "outputs": [
    {
     "name": "stdout",
     "output_type": "stream",
     "text": [
      "     Transaction ID        Date Customer ID  Gender  Age Product Category  \\\n",
      "0                 1  2023-11-24     CUST001    Male   34           Beauty   \n",
      "1                 2  2023-02-27     CUST002  Female   26         Clothing   \n",
      "2                 3  2023-01-13     CUST003    Male   50      Electronics   \n",
      "3                 4  2023-05-21     CUST004    Male   37         Clothing   \n",
      "4                 5  2023-05-06     CUST005    Male   30           Beauty   \n",
      "..              ...         ...         ...     ...  ...              ...   \n",
      "995             996  2023-05-16     CUST996    Male   62         Clothing   \n",
      "996             997  2023-11-17     CUST997    Male   52           Beauty   \n",
      "997             998  2023-10-29     CUST998  Female   23           Beauty   \n",
      "998             999  2023-12-05     CUST999  Female   36      Electronics   \n",
      "999            1000  2023-04-12    CUST1000    Male   47      Electronics   \n",
      "\n",
      "     Quantity  Price per Unit  Total Amount  Sales Normalized  Level  \n",
      "0           3              50           150          0.063291  media  \n",
      "1           2             500          1000          0.493671   alta  \n",
      "2           1              30            30          0.002532   baja  \n",
      "3           1             500           500          0.240506  media  \n",
      "4           2              50           100          0.037975  media  \n",
      "..        ...             ...           ...               ...    ...  \n",
      "995         1              50            50          0.012658  media  \n",
      "996         3              30            90          0.032911  media  \n",
      "997         4              25           100          0.037975  media  \n",
      "998         3              50           150          0.063291  media  \n",
      "999         4              30           120          0.048101  media  \n",
      "\n",
      "[1000 rows x 11 columns]\n"
     ]
    }
   ],
   "source": [
    "# agregar una columna que categoriza las ventas como alto, medio o bajo\n",
    "retail_sales_added['Level'] = retail_sales_added['Total Amount'].apply(sales_level)\n",
    "print(retail_sales_added)"
   ]
  },
  {
   "cell_type": "code",
   "execution_count": 91,
   "metadata": {},
   "outputs": [
    {
     "name": "stdout",
     "output_type": "stream",
     "text": [
      "     Transaction ID        Date Customer ID  Gender  Age Product Category  \\\n",
      "0                 1  2023-11-24     CUST001    Male   34           Beauty   \n",
      "1                 2  2023-02-27     CUST002  Female   26         Clothing   \n",
      "2                 3  2023-01-13     CUST003    Male   50      Electronics   \n",
      "3                 4  2023-05-21     CUST004    Male   37         Clothing   \n",
      "4                 5  2023-05-06     CUST005    Male   30           Beauty   \n",
      "..              ...         ...         ...     ...  ...              ...   \n",
      "995             996  2023-05-16     CUST996    Male   62         Clothing   \n",
      "996             997  2023-11-17     CUST997    Male   52           Beauty   \n",
      "997             998  2023-10-29     CUST998  Female   23           Beauty   \n",
      "998             999  2023-12-05     CUST999  Female   36      Electronics   \n",
      "999            1000  2023-04-12    CUST1000    Male   47      Electronics   \n",
      "\n",
      "     Quantity  Price per Unit  Total Amount  Sales Normalized  Level  \\\n",
      "0           3              50           150          0.063291  media   \n",
      "1           2             500          1000          0.493671   alta   \n",
      "2           1              30            30          0.002532   baja   \n",
      "3           1             500           500          0.240506  media   \n",
      "4           2              50           100          0.037975  media   \n",
      "..        ...             ...           ...               ...    ...   \n",
      "995         1              50            50          0.012658  media   \n",
      "996         3              30            90          0.032911  media   \n",
      "997         4              25           100          0.037975  media   \n",
      "998         3              50           150          0.063291  media   \n",
      "999         4              30           120          0.048101  media   \n",
      "\n",
      "     Mean Deviation    MAD  \n",
      "0             306.0  306.0  \n",
      "1             544.0  544.0  \n",
      "2             426.0  426.0  \n",
      "3              44.0   44.0  \n",
      "4             356.0  356.0  \n",
      "..              ...    ...  \n",
      "995           406.0  406.0  \n",
      "996           366.0  366.0  \n",
      "997           356.0  356.0  \n",
      "998           306.0  306.0  \n",
      "999           336.0  336.0  \n",
      "\n",
      "[1000 rows x 13 columns]\n"
     ]
    }
   ],
   "source": [
    "# calcular la desviacion respecto a la media de ventas\n",
    "# Calcular la desviación absoluta media\n",
    "# mean_A = df['A'].mean()\n",
    "# df['MAD_A'] = df['A'].apply(lambda x: np.abs(x - mean_A))\n",
    "# print(df)\n",
    "# se calcula la media de las ventas\n",
    "mean_sales = retail_sales_added['Total Amount'].mean()\n",
    "retail_sales_added['MAD'] = retail_sales_added['Total Amount'].apply(lambda x: np.abs(x - mean_sales))\n",
    "print (retail_sales_added)"
   ]
  }
 ],
 "metadata": {
  "kernelspec": {
   "display_name": "datascience",
   "language": "python",
   "name": "python3"
  },
  "language_info": {
   "codemirror_mode": {
    "name": "ipython",
    "version": 3
   },
   "file_extension": ".py",
   "mimetype": "text/x-python",
   "name": "python",
   "nbconvert_exporter": "python",
   "pygments_lexer": "ipython3",
   "version": "3.12.7"
  }
 },
 "nbformat": 4,
 "nbformat_minor": 2
}
